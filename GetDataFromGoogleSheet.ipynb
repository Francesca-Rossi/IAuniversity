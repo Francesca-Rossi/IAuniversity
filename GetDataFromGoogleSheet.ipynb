{
  "nbformat": 4,
  "nbformat_minor": 0,
  "metadata": {
    "colab": {
      "name": "GetDataFromGoogleSheet.ipynb",
      "provenance": [],
      "collapsed_sections": [],
      "toc_visible": true,
      "mount_file_id": "1KUk636qSoSD0X2YCJ2J48hNJcR-k-Phj",
      "authorship_tag": "ABX9TyMXcP3D/7rQpcIccmZs4UnV",
      "include_colab_link": true
    },
    "kernelspec": {
      "display_name": "Python 3",
      "name": "python3"
    },
    "language_info": {
      "name": "python"
    }
  },
  "cells": [
    {
      "cell_type": "markdown",
      "metadata": {
        "id": "view-in-github",
        "colab_type": "text"
      },
      "source": [
        "<a href=\"https://colab.research.google.com/github/Francesca-Rossi/ITA_university_advisor/blob/main/GetDataFromGoogleSheet.ipynb\" target=\"_parent\"><img src=\"https://colab.research.google.com/assets/colab-badge.svg\" alt=\"Open In Colab\"/></a>"
      ]
    },
    {
      "cell_type": "markdown",
      "metadata": {
        "id": "xHM5sJcDY21D"
      },
      "source": [
        "#Importazione librerie"
      ]
    },
    {
      "cell_type": "code",
      "metadata": {
        "colab": {
          "base_uri": "https://localhost:8080/"
        },
        "id": "niPhyWKS2YJ3",
        "outputId": "acbac3f2-34b6-4895-d48b-b89dfcd686f3"
      },
      "source": [
        "import gspread \n",
        "import nltk\n",
        "nltk.download('stopwords')\n",
        "import pandas as pd\n",
        "import numpy as np\n",
        "import os\n",
        "from oauth2client.service_account import ServiceAccountCredentials\n",
        "from google.colab import drive\n",
        "from nltk.corpus import stopwords\n",
        "from nltk.stem.snowball import ItalianStemmer\n"
      ],
      "execution_count": 1,
      "outputs": [
        {
          "output_type": "stream",
          "text": [
            "[nltk_data] Downloading package stopwords to /root/nltk_data...\n",
            "[nltk_data]   Unzipping corpora/stopwords.zip.\n"
          ],
          "name": "stdout"
        }
      ]
    },
    {
      "cell_type": "markdown",
      "metadata": {
        "id": "YpkQ3ISK1vNu"
      },
      "source": [
        "#COLLEGAMENTO CON IL GOOGLE SHEET "
      ]
    },
    {
      "cell_type": "code",
      "metadata": {
        "id": "PX5ddaYS6qhp"
      },
      "source": [
        "scopes = [\"https://spreadsheets.google.com/feeds\",\n",
        "                  \"https://www.googleapis.com/auth/spreadsheets\",\n",
        "                  \"https://www.googleapis.com/auth/drive\",\n",
        "                  \"https://www.googleapis.com/auth/drive\"]"
      ],
      "execution_count": 2,
      "outputs": []
    },
    {
      "cell_type": "code",
      "metadata": {
        "colab": {
          "base_uri": "https://localhost:8080/"
        },
        "id": "Ejz9rDQm7ROq",
        "outputId": "1ac7b35e-b10a-4b18-b951-d19fd76c4f25"
      },
      "source": [
        "drive.mount('/content/drive')\n",
        "os.chdir(\"/content/drive/My Drive/Colab Notebooks/big data proj\")\n",
        "os.listdir()"
      ],
      "execution_count": 3,
      "outputs": [
        {
          "output_type": "stream",
          "text": [
            "Drive already mounted at /content/drive; to attempt to forcibly remount, call drive.mount(\"/content/drive\", force_remount=True).\n"
          ],
          "name": "stdout"
        },
        {
          "output_type": "execute_result",
          "data": {
            "text/plain": [
              "['GoogleSheetCredentials.json']"
            ]
          },
          "metadata": {
            "tags": []
          },
          "execution_count": 3
        }
      ]
    },
    {
      "cell_type": "code",
      "metadata": {
        "id": "iILC1IeB7v_P"
      },
      "source": [
        "cred = ServiceAccountCredentials.from_json_keyfile_name(\"/content/drive/My Drive/Colab Notebooks/big data proj/GoogleSheetCredentials.json\", scopes)"
      ],
      "execution_count": 4,
      "outputs": []
    },
    {
      "cell_type": "code",
      "metadata": {
        "id": "ouYXvAKv9qhx"
      },
      "source": [
        "gclient = gspread.authorize(cred)"
      ],
      "execution_count": 5,
      "outputs": []
    },
    {
      "cell_type": "code",
      "metadata": {
        "id": "T9HrJD2U-H1Y"
      },
      "source": [
        "sheet = gclient.open_by_url(\"https://docs.google.com/spreadsheets/d/1scMc0UlNC1pdZNow5k3pLhofcW6j4ekXyxYlNiBcueI/edit?usp=sharing\")"
      ],
      "execution_count": 6,
      "outputs": []
    },
    {
      "cell_type": "markdown",
      "metadata": {
        "id": "1eZh_nZD1_8p"
      },
      "source": [
        "# RECUPERO FOGLI E SALVATAGGIO IN DATAFRAME"
      ]
    },
    {
      "cell_type": "code",
      "metadata": {
        "id": "EQoJnN91-hwu"
      },
      "source": [
        "students_data = sheet.worksheet('Laureando').get_all_records()\n",
        "graduate_data = sheet.worksheet('Laureato').get_all_records()"
      ],
      "execution_count": 7,
      "outputs": []
    },
    {
      "cell_type": "code",
      "metadata": {
        "id": "RlgO04rt_k29"
      },
      "source": [
        "df_students = pd.DataFrame(students_data)\n",
        "#print(df_students)"
      ],
      "execution_count": 8,
      "outputs": []
    },
    {
      "cell_type": "code",
      "metadata": {
        "id": "UVdm7MWB0iYE"
      },
      "source": [
        "df_graduate = pd.DataFrame(graduate_data)\n",
        "#print(graduate_df)"
      ],
      "execution_count": 9,
      "outputs": []
    },
    {
      "cell_type": "markdown",
      "metadata": {
        "id": "S3i5lIVTykcf"
      },
      "source": [
        "#GESTIONE VALORI MANCANTI NELLA COLONNA UNIVERSITA'"
      ]
    },
    {
      "cell_type": "markdown",
      "metadata": {
        "id": "gvB1whcN4ZKZ"
      },
      "source": [
        "##Studenti"
      ]
    },
    {
      "cell_type": "markdown",
      "metadata": {
        "id": "6hqoVOGZ4hvn"
      },
      "source": [
        "###1 - Sostituzione celle vuote con valore 'Nan'"
      ]
    },
    {
      "cell_type": "code",
      "metadata": {
        "colab": {
          "base_uri": "https://localhost:8080/"
        },
        "id": "0nT6zvAAxsAr",
        "outputId": "52d2cbe3-a7ed-4410-8c94-5be8faab849d"
      },
      "source": [
        "df_students=df_students.replace('',np.NaN)\n",
        "df_students['university']=df_students['university'].replace('altro', np.NaN ) #necessario per effettuare merge tra 2 colonne\n",
        "df_students.shape"
      ],
      "execution_count": 10,
      "outputs": [
        {
          "output_type": "execute_result",
          "data": {
            "text/plain": [
              "(719, 89)"
            ]
          },
          "metadata": {
            "tags": []
          },
          "execution_count": 10
        }
      ]
    },
    {
      "cell_type": "code",
      "metadata": {
        "colab": {
          "base_uri": "https://localhost:8080/"
        },
        "id": "R2f9T90ByM7h",
        "outputId": "c355b0db-5953-477e-9ec1-6f2a1681a832"
      },
      "source": [
        "#TODO remove [fra]\n",
        "df_students.isnull().sum()#codice di controllo"
      ],
      "execution_count": 11,
      "outputs": [
        {
          "output_type": "execute_result",
          "data": {
            "text/plain": [
              "age                        101\n",
              "gender                      90\n",
              "hometown                     7\n",
              "home_province                7\n",
              "home_region                  9\n",
              "                          ... \n",
              "prev_degree_couse_class    680\n",
              "expectations_class         128\n",
              "expectations_no_class      586\n",
              "change_why_class           681\n",
              "decision_choice_class      130\n",
              "Length: 89, dtype: int64"
            ]
          },
          "metadata": {
            "tags": []
          },
          "execution_count": 11
        }
      ]
    },
    {
      "cell_type": "code",
      "metadata": {
        "colab": {
          "base_uri": "https://localhost:8080/",
          "height": 1000
        },
        "id": "TUEs9OJQzHqB",
        "outputId": "5bf45e29-8d00-4558-c8e2-273231d35845"
      },
      "source": [
        "#TODO remove [fra]\n",
        "df_students[['university', 'other_uni']].head(50) #codice di controllo"
      ],
      "execution_count": 12,
      "outputs": [
        {
          "output_type": "execute_result",
          "data": {
            "text/html": [
              "<div>\n",
              "<style scoped>\n",
              "    .dataframe tbody tr th:only-of-type {\n",
              "        vertical-align: middle;\n",
              "    }\n",
              "\n",
              "    .dataframe tbody tr th {\n",
              "        vertical-align: top;\n",
              "    }\n",
              "\n",
              "    .dataframe thead th {\n",
              "        text-align: right;\n",
              "    }\n",
              "</style>\n",
              "<table border=\"1\" class=\"dataframe\">\n",
              "  <thead>\n",
              "    <tr style=\"text-align: right;\">\n",
              "      <th></th>\n",
              "      <th>university</th>\n",
              "      <th>other_uni</th>\n",
              "    </tr>\n",
              "  </thead>\n",
              "  <tbody>\n",
              "    <tr>\n",
              "      <th>0</th>\n",
              "      <td>Politecnico di MILANO</td>\n",
              "      <td>NaN</td>\n",
              "    </tr>\n",
              "    <tr>\n",
              "      <th>1</th>\n",
              "      <td>Università degli Studi di NAPOLI Federico II</td>\n",
              "      <td>NaN</td>\n",
              "    </tr>\n",
              "    <tr>\n",
              "      <th>2</th>\n",
              "      <td>Università degli Studi di ROMA La Sapienza</td>\n",
              "      <td>NaN</td>\n",
              "    </tr>\n",
              "    <tr>\n",
              "      <th>3</th>\n",
              "      <td>Università degli Studi di ROMA La Sapienza</td>\n",
              "      <td>NaN</td>\n",
              "    </tr>\n",
              "    <tr>\n",
              "      <th>4</th>\n",
              "      <td>Università degli Studi di CAGLIARI</td>\n",
              "      <td>NaN</td>\n",
              "    </tr>\n",
              "    <tr>\n",
              "      <th>5</th>\n",
              "      <td>Università degli Studi di PARMA</td>\n",
              "      <td>NaN</td>\n",
              "    </tr>\n",
              "    <tr>\n",
              "      <th>6</th>\n",
              "      <td>NaN</td>\n",
              "      <td>Civica Scuola di Cinema \"Luchino Visconti\"</td>\n",
              "    </tr>\n",
              "    <tr>\n",
              "      <th>7</th>\n",
              "      <td>Università degli Studi di BOLOGNA</td>\n",
              "      <td>NaN</td>\n",
              "    </tr>\n",
              "    <tr>\n",
              "      <th>8</th>\n",
              "      <td>Università degli Studi di PARMA</td>\n",
              "      <td>NaN</td>\n",
              "    </tr>\n",
              "    <tr>\n",
              "      <th>9</th>\n",
              "      <td>Università degli Studi di PARMA</td>\n",
              "      <td>NaN</td>\n",
              "    </tr>\n",
              "    <tr>\n",
              "      <th>10</th>\n",
              "      <td>Università degli Studi di MODENA e REGGIO EMILIA</td>\n",
              "      <td>NaN</td>\n",
              "    </tr>\n",
              "    <tr>\n",
              "      <th>11</th>\n",
              "      <td>Università degli Studi di PALERMO</td>\n",
              "      <td>NaN</td>\n",
              "    </tr>\n",
              "    <tr>\n",
              "      <th>12</th>\n",
              "      <td>Università degli Studi di ROMA La Sapienza</td>\n",
              "      <td>NaN</td>\n",
              "    </tr>\n",
              "    <tr>\n",
              "      <th>13</th>\n",
              "      <td>Università degli Studi di PADOVA</td>\n",
              "      <td>NaN</td>\n",
              "    </tr>\n",
              "    <tr>\n",
              "      <th>14</th>\n",
              "      <td>Università degli Studi di GENOVA</td>\n",
              "      <td>NaN</td>\n",
              "    </tr>\n",
              "    <tr>\n",
              "      <th>15</th>\n",
              "      <td>Università degli Studi di MILANO</td>\n",
              "      <td>NaN</td>\n",
              "    </tr>\n",
              "    <tr>\n",
              "      <th>16</th>\n",
              "      <td>Università degli Studi di PARMA</td>\n",
              "      <td>NaN</td>\n",
              "    </tr>\n",
              "    <tr>\n",
              "      <th>17</th>\n",
              "      <td>Università degli Studi di CAGLIARI</td>\n",
              "      <td>NaN</td>\n",
              "    </tr>\n",
              "    <tr>\n",
              "      <th>18</th>\n",
              "      <td>Università degli Studi di CAGLIARI</td>\n",
              "      <td>NaN</td>\n",
              "    </tr>\n",
              "    <tr>\n",
              "      <th>19</th>\n",
              "      <td>Università degli Studi di MILANO-BICOCCA</td>\n",
              "      <td>NaN</td>\n",
              "    </tr>\n",
              "    <tr>\n",
              "      <th>20</th>\n",
              "      <td>Università degli Studi della BASILICATA</td>\n",
              "      <td>NaN</td>\n",
              "    </tr>\n",
              "    <tr>\n",
              "      <th>21</th>\n",
              "      <td>Università degli Studi di PARMA</td>\n",
              "      <td>NaN</td>\n",
              "    </tr>\n",
              "    <tr>\n",
              "      <th>22</th>\n",
              "      <td>Università degli Studi di BERGAMO</td>\n",
              "      <td>NaN</td>\n",
              "    </tr>\n",
              "    <tr>\n",
              "      <th>23</th>\n",
              "      <td>Università degli Studi di MILANO-BICOCCA</td>\n",
              "      <td>NaN</td>\n",
              "    </tr>\n",
              "    <tr>\n",
              "      <th>24</th>\n",
              "      <td>Università degli Studi di PARMA</td>\n",
              "      <td>NaN</td>\n",
              "    </tr>\n",
              "    <tr>\n",
              "      <th>25</th>\n",
              "      <td>Università del SALENTO</td>\n",
              "      <td>NaN</td>\n",
              "    </tr>\n",
              "    <tr>\n",
              "      <th>26</th>\n",
              "      <td>Università degli Studi di SALERNO</td>\n",
              "      <td>NaN</td>\n",
              "    </tr>\n",
              "    <tr>\n",
              "      <th>27</th>\n",
              "      <td>NaN</td>\n",
              "      <td>NaN</td>\n",
              "    </tr>\n",
              "    <tr>\n",
              "      <th>28</th>\n",
              "      <td>Università di PISA</td>\n",
              "      <td>NaN</td>\n",
              "    </tr>\n",
              "    <tr>\n",
              "      <th>29</th>\n",
              "      <td>Università degli Studi di ROMA La Sapienza</td>\n",
              "      <td>NaN</td>\n",
              "    </tr>\n",
              "    <tr>\n",
              "      <th>30</th>\n",
              "      <td>Università degli Studi di FERRARA</td>\n",
              "      <td>NaN</td>\n",
              "    </tr>\n",
              "    <tr>\n",
              "      <th>31</th>\n",
              "      <td>Università degli Studi di PARMA</td>\n",
              "      <td>NaN</td>\n",
              "    </tr>\n",
              "    <tr>\n",
              "      <th>32</th>\n",
              "      <td>Università degli Studi di FIRENZE</td>\n",
              "      <td>NaN</td>\n",
              "    </tr>\n",
              "    <tr>\n",
              "      <th>33</th>\n",
              "      <td>Università Telematica Internazionale UNINETTUNO</td>\n",
              "      <td>NaN</td>\n",
              "    </tr>\n",
              "    <tr>\n",
              "      <th>34</th>\n",
              "      <td>Università degli Studi di NAPOLI L'Orientale</td>\n",
              "      <td>NaN</td>\n",
              "    </tr>\n",
              "    <tr>\n",
              "      <th>35</th>\n",
              "      <td>Università degli Studi di PARMA</td>\n",
              "      <td>NaN</td>\n",
              "    </tr>\n",
              "    <tr>\n",
              "      <th>36</th>\n",
              "      <td>Università degli Studi di BOLOGNA</td>\n",
              "      <td>NaN</td>\n",
              "    </tr>\n",
              "    <tr>\n",
              "      <th>37</th>\n",
              "      <td>Università degli Studi di GENOVA</td>\n",
              "      <td>NaN</td>\n",
              "    </tr>\n",
              "    <tr>\n",
              "      <th>38</th>\n",
              "      <td>Università degli Studi di CAGLIARI</td>\n",
              "      <td>NaN</td>\n",
              "    </tr>\n",
              "    <tr>\n",
              "      <th>39</th>\n",
              "      <td>Università degli Studi di GENOVA</td>\n",
              "      <td>NaN</td>\n",
              "    </tr>\n",
              "    <tr>\n",
              "      <th>40</th>\n",
              "      <td>Università degli Studi di GENOVA</td>\n",
              "      <td>NaN</td>\n",
              "    </tr>\n",
              "    <tr>\n",
              "      <th>41</th>\n",
              "      <td>Università degli Studi INSUBRIA Varese-Como</td>\n",
              "      <td>NaN</td>\n",
              "    </tr>\n",
              "    <tr>\n",
              "      <th>42</th>\n",
              "      <td>Università degli Studi di PARMA</td>\n",
              "      <td>NaN</td>\n",
              "    </tr>\n",
              "    <tr>\n",
              "      <th>43</th>\n",
              "      <td>Università degli Studi di MILANO</td>\n",
              "      <td>NaN</td>\n",
              "    </tr>\n",
              "    <tr>\n",
              "      <th>44</th>\n",
              "      <td>Università degli Studi di GENOVA</td>\n",
              "      <td>NaN</td>\n",
              "    </tr>\n",
              "    <tr>\n",
              "      <th>45</th>\n",
              "      <td>Università degli Studi di PARMA</td>\n",
              "      <td>NaN</td>\n",
              "    </tr>\n",
              "    <tr>\n",
              "      <th>46</th>\n",
              "      <td>Università degli Studi di ROMA La Sapienza</td>\n",
              "      <td>NaN</td>\n",
              "    </tr>\n",
              "    <tr>\n",
              "      <th>47</th>\n",
              "      <td>Università degli Studi di FIRENZE</td>\n",
              "      <td>NaN</td>\n",
              "    </tr>\n",
              "    <tr>\n",
              "      <th>48</th>\n",
              "      <td>Università degli Studi di GENOVA</td>\n",
              "      <td>NaN</td>\n",
              "    </tr>\n",
              "    <tr>\n",
              "      <th>49</th>\n",
              "      <td>Università del SALENTO</td>\n",
              "      <td>NaN</td>\n",
              "    </tr>\n",
              "  </tbody>\n",
              "</table>\n",
              "</div>"
            ],
            "text/plain": [
              "                                          university                                   other_uni\n",
              "0                              Politecnico di MILANO                                         NaN\n",
              "1       Università degli Studi di NAPOLI Federico II                                         NaN\n",
              "2         Università degli Studi di ROMA La Sapienza                                         NaN\n",
              "3         Università degli Studi di ROMA La Sapienza                                         NaN\n",
              "4                 Università degli Studi di CAGLIARI                                         NaN\n",
              "5                    Università degli Studi di PARMA                                         NaN\n",
              "6                                                NaN  Civica Scuola di Cinema \"Luchino Visconti\"\n",
              "7                  Università degli Studi di BOLOGNA                                         NaN\n",
              "8                    Università degli Studi di PARMA                                         NaN\n",
              "9                    Università degli Studi di PARMA                                         NaN\n",
              "10  Università degli Studi di MODENA e REGGIO EMILIA                                         NaN\n",
              "11                 Università degli Studi di PALERMO                                         NaN\n",
              "12        Università degli Studi di ROMA La Sapienza                                         NaN\n",
              "13                  Università degli Studi di PADOVA                                         NaN\n",
              "14                  Università degli Studi di GENOVA                                         NaN\n",
              "15                  Università degli Studi di MILANO                                         NaN\n",
              "16                   Università degli Studi di PARMA                                         NaN\n",
              "17                Università degli Studi di CAGLIARI                                         NaN\n",
              "18                Università degli Studi di CAGLIARI                                         NaN\n",
              "19          Università degli Studi di MILANO-BICOCCA                                         NaN\n",
              "20           Università degli Studi della BASILICATA                                         NaN\n",
              "21                   Università degli Studi di PARMA                                         NaN\n",
              "22                 Università degli Studi di BERGAMO                                         NaN\n",
              "23          Università degli Studi di MILANO-BICOCCA                                         NaN\n",
              "24                   Università degli Studi di PARMA                                         NaN\n",
              "25                            Università del SALENTO                                         NaN\n",
              "26                 Università degli Studi di SALERNO                                         NaN\n",
              "27                                               NaN                                         NaN\n",
              "28                                Università di PISA                                         NaN\n",
              "29        Università degli Studi di ROMA La Sapienza                                         NaN\n",
              "30                 Università degli Studi di FERRARA                                         NaN\n",
              "31                   Università degli Studi di PARMA                                         NaN\n",
              "32                 Università degli Studi di FIRENZE                                         NaN\n",
              "33   Università Telematica Internazionale UNINETTUNO                                         NaN\n",
              "34      Università degli Studi di NAPOLI L'Orientale                                         NaN\n",
              "35                   Università degli Studi di PARMA                                         NaN\n",
              "36                 Università degli Studi di BOLOGNA                                         NaN\n",
              "37                  Università degli Studi di GENOVA                                         NaN\n",
              "38                Università degli Studi di CAGLIARI                                         NaN\n",
              "39                  Università degli Studi di GENOVA                                         NaN\n",
              "40                  Università degli Studi di GENOVA                                         NaN\n",
              "41       Università degli Studi INSUBRIA Varese-Como                                         NaN\n",
              "42                   Università degli Studi di PARMA                                         NaN\n",
              "43                  Università degli Studi di MILANO                                         NaN\n",
              "44                  Università degli Studi di GENOVA                                         NaN\n",
              "45                   Università degli Studi di PARMA                                         NaN\n",
              "46        Università degli Studi di ROMA La Sapienza                                         NaN\n",
              "47                 Università degli Studi di FIRENZE                                         NaN\n",
              "48                  Università degli Studi di GENOVA                                         NaN\n",
              "49                            Università del SALENTO                                         NaN"
            ]
          },
          "metadata": {
            "tags": []
          },
          "execution_count": 12
        }
      ]
    },
    {
      "cell_type": "markdown",
      "metadata": {
        "id": "JIpqEjwp5LwF"
      },
      "source": [
        "###2- Merge tra la colonna university e other_uni per unire i valori mancanti in university"
      ]
    },
    {
      "cell_type": "code",
      "metadata": {
        "id": "_ioe_dAMzz6G",
        "colab": {
          "base_uri": "https://localhost:8080/"
        },
        "outputId": "59a11719-1b9d-48f2-fb2d-93f09819c4aa"
      },
      "source": [
        "df_students['university']=df_students['university'].combine_first(df_students['other_uni'])\n",
        "#df_students['university'].head(50)"
      ],
      "execution_count": 13,
      "outputs": [
        {
          "output_type": "execute_result",
          "data": {
            "text/plain": [
              "0                                Politecnico di MILANO\n",
              "1         Università degli Studi di NAPOLI Federico II\n",
              "2           Università degli Studi di ROMA La Sapienza\n",
              "3           Università degli Studi di ROMA La Sapienza\n",
              "4                   Università degli Studi di CAGLIARI\n",
              "5                      Università degli Studi di PARMA\n",
              "6           Civica Scuola di Cinema \"Luchino Visconti\"\n",
              "7                    Università degli Studi di BOLOGNA\n",
              "8                      Università degli Studi di PARMA\n",
              "9                      Università degli Studi di PARMA\n",
              "10    Università degli Studi di MODENA e REGGIO EMILIA\n",
              "11                   Università degli Studi di PALERMO\n",
              "12          Università degli Studi di ROMA La Sapienza\n",
              "13                    Università degli Studi di PADOVA\n",
              "14                    Università degli Studi di GENOVA\n",
              "15                    Università degli Studi di MILANO\n",
              "16                     Università degli Studi di PARMA\n",
              "17                  Università degli Studi di CAGLIARI\n",
              "18                  Università degli Studi di CAGLIARI\n",
              "19            Università degli Studi di MILANO-BICOCCA\n",
              "20             Università degli Studi della BASILICATA\n",
              "21                     Università degli Studi di PARMA\n",
              "22                   Università degli Studi di BERGAMO\n",
              "23            Università degli Studi di MILANO-BICOCCA\n",
              "24                     Università degli Studi di PARMA\n",
              "25                              Università del SALENTO\n",
              "26                   Università degli Studi di SALERNO\n",
              "27                                                 NaN\n",
              "28                                  Università di PISA\n",
              "29          Università degli Studi di ROMA La Sapienza\n",
              "30                   Università degli Studi di FERRARA\n",
              "31                     Università degli Studi di PARMA\n",
              "32                   Università degli Studi di FIRENZE\n",
              "33     Università Telematica Internazionale UNINETTUNO\n",
              "34        Università degli Studi di NAPOLI L'Orientale\n",
              "35                     Università degli Studi di PARMA\n",
              "36                   Università degli Studi di BOLOGNA\n",
              "37                    Università degli Studi di GENOVA\n",
              "38                  Università degli Studi di CAGLIARI\n",
              "39                    Università degli Studi di GENOVA\n",
              "40                    Università degli Studi di GENOVA\n",
              "41         Università degli Studi INSUBRIA Varese-Como\n",
              "42                     Università degli Studi di PARMA\n",
              "43                    Università degli Studi di MILANO\n",
              "44                    Università degli Studi di GENOVA\n",
              "45                     Università degli Studi di PARMA\n",
              "46          Università degli Studi di ROMA La Sapienza\n",
              "47                   Università degli Studi di FIRENZE\n",
              "48                    Università degli Studi di GENOVA\n",
              "49                              Università del SALENTO\n",
              "Name: university, dtype: object"
            ]
          },
          "metadata": {
            "tags": []
          },
          "execution_count": 13
        }
      ]
    },
    {
      "cell_type": "markdown",
      "metadata": {
        "id": "gj6lZxw35cl4"
      },
      "source": [
        "### 3 - Eliminazione delle righe che nonostante il merge presentano valori nulli nella colonna university"
      ]
    },
    {
      "cell_type": "code",
      "metadata": {
        "colab": {
          "base_uri": "https://localhost:8080/"
        },
        "id": "ITvfVa6V1svz",
        "outputId": "c082494b-3bb2-4289-8101-1e66e4707af6"
      },
      "source": [
        "df_students = df_students[df_students['university'].notna()]\n",
        "df_students.shape"
      ],
      "execution_count": 14,
      "outputs": [
        {
          "output_type": "execute_result",
          "data": {
            "text/plain": [
              "(696, 89)"
            ]
          },
          "metadata": {
            "tags": []
          },
          "execution_count": 14
        }
      ]
    },
    {
      "cell_type": "markdown",
      "metadata": {
        "id": "9U1bw3CB5q4v"
      },
      "source": [
        "##Laureati"
      ]
    },
    {
      "cell_type": "markdown",
      "metadata": {
        "id": "lAKndiei52I1"
      },
      "source": [
        "### 1- Sostituzione delle celle vuote con il valore 'Nan'"
      ]
    },
    {
      "cell_type": "code",
      "metadata": {
        "colab": {
          "base_uri": "https://localhost:8080/"
        },
        "id": "booBIMJFyu2Y",
        "outputId": "01616fb2-8018-4f86-a027-0f5e1f5f9849"
      },
      "source": [
        "df_graduate=df_graduate.replace('',np.NaN)\n",
        "df_graduate['university']=df_graduate['university'].replace('altro', np.NaN ) #per poter fare il merge tra due colonne\n",
        "df_graduate.shape"
      ],
      "execution_count": 15,
      "outputs": [
        {
          "output_type": "execute_result",
          "data": {
            "text/plain": [
              "(61, 85)"
            ]
          },
          "metadata": {
            "tags": []
          },
          "execution_count": 15
        }
      ]
    },
    {
      "cell_type": "code",
      "metadata": {
        "colab": {
          "base_uri": "https://localhost:8080/"
        },
        "id": "RVR3JEzoy8T9",
        "outputId": "308345a6-8f2b-4c19-911d-cf6f5d859f6c"
      },
      "source": [
        "#TODO remove [fra]\n",
        "df_graduate.isnull().sum() #codice di controllo"
      ],
      "execution_count": 16,
      "outputs": [
        {
          "output_type": "execute_result",
          "data": {
            "text/plain": [
              "age                       2\n",
              "gender                    3\n",
              "hometown                  2\n",
              "home_province             1\n",
              "home_region               2\n",
              "                         ..\n",
              "redo_choice_why_class     3\n",
              "expectations_class       21\n",
              "expectations_no_class    53\n",
              "change_why_class         60\n",
              "decision_choice_class    14\n",
              "Length: 85, dtype: int64"
            ]
          },
          "metadata": {
            "tags": []
          },
          "execution_count": 16
        }
      ]
    },
    {
      "cell_type": "code",
      "metadata": {
        "colab": {
          "base_uri": "https://localhost:8080/",
          "height": 1000
        },
        "id": "WUM7L-f46NjI",
        "outputId": "f3201c3e-7ee7-412f-915c-835d45bce92a"
      },
      "source": [
        "#TODO remove [fra]\n",
        "df_graduate[['university', 'other_uni']].head(50) #codice di controllo"
      ],
      "execution_count": 17,
      "outputs": [
        {
          "output_type": "execute_result",
          "data": {
            "text/html": [
              "<div>\n",
              "<style scoped>\n",
              "    .dataframe tbody tr th:only-of-type {\n",
              "        vertical-align: middle;\n",
              "    }\n",
              "\n",
              "    .dataframe tbody tr th {\n",
              "        vertical-align: top;\n",
              "    }\n",
              "\n",
              "    .dataframe thead th {\n",
              "        text-align: right;\n",
              "    }\n",
              "</style>\n",
              "<table border=\"1\" class=\"dataframe\">\n",
              "  <thead>\n",
              "    <tr style=\"text-align: right;\">\n",
              "      <th></th>\n",
              "      <th>university</th>\n",
              "      <th>other_uni</th>\n",
              "    </tr>\n",
              "  </thead>\n",
              "  <tbody>\n",
              "    <tr>\n",
              "      <th>0</th>\n",
              "      <td>Università degli Studi di PARMA</td>\n",
              "      <td>NaN</td>\n",
              "    </tr>\n",
              "    <tr>\n",
              "      <th>1</th>\n",
              "      <td>Università degli Studi di PARMA</td>\n",
              "      <td>NaN</td>\n",
              "    </tr>\n",
              "    <tr>\n",
              "      <th>2</th>\n",
              "      <td>Università degli Studi di PARMA</td>\n",
              "      <td>NaN</td>\n",
              "    </tr>\n",
              "    <tr>\n",
              "      <th>3</th>\n",
              "      <td>Università degli Studi di PARMA</td>\n",
              "      <td>NaN</td>\n",
              "    </tr>\n",
              "    <tr>\n",
              "      <th>4</th>\n",
              "      <td>Università degli Studi di VERONA</td>\n",
              "      <td>NaN</td>\n",
              "    </tr>\n",
              "    <tr>\n",
              "      <th>5</th>\n",
              "      <td>Università degli Studi di MODENA e REGGIO EMILIA</td>\n",
              "      <td>NaN</td>\n",
              "    </tr>\n",
              "    <tr>\n",
              "      <th>6</th>\n",
              "      <td>Università degli Studi di PARMA</td>\n",
              "      <td>NaN</td>\n",
              "    </tr>\n",
              "    <tr>\n",
              "      <th>7</th>\n",
              "      <td>Università degli Studi di NAPOLI Federico II</td>\n",
              "      <td>NaN</td>\n",
              "    </tr>\n",
              "    <tr>\n",
              "      <th>8</th>\n",
              "      <td>Università degli Studi di PADOVA</td>\n",
              "      <td>NaN</td>\n",
              "    </tr>\n",
              "    <tr>\n",
              "      <th>9</th>\n",
              "      <td>Università degli Studi di ROMA Foro Italico</td>\n",
              "      <td>NaN</td>\n",
              "    </tr>\n",
              "    <tr>\n",
              "      <th>10</th>\n",
              "      <td>Università degli Studi di MODENA e REGGIO EMILIA</td>\n",
              "      <td>NaN</td>\n",
              "    </tr>\n",
              "    <tr>\n",
              "      <th>11</th>\n",
              "      <td>Università di PISA</td>\n",
              "      <td>NaN</td>\n",
              "    </tr>\n",
              "    <tr>\n",
              "      <th>12</th>\n",
              "      <td>Università degli Studi di PARMA</td>\n",
              "      <td>NaN</td>\n",
              "    </tr>\n",
              "    <tr>\n",
              "      <th>13</th>\n",
              "      <td>Università degli Studi di ROMA La Sapienza</td>\n",
              "      <td>NaN</td>\n",
              "    </tr>\n",
              "    <tr>\n",
              "      <th>14</th>\n",
              "      <td>Università degli Studi di PARMA</td>\n",
              "      <td>NaN</td>\n",
              "    </tr>\n",
              "    <tr>\n",
              "      <th>15</th>\n",
              "      <td>Università degli Studi di VERONA</td>\n",
              "      <td>NaN</td>\n",
              "    </tr>\n",
              "    <tr>\n",
              "      <th>16</th>\n",
              "      <td>Università degli Studi di PARMA</td>\n",
              "      <td>NaN</td>\n",
              "    </tr>\n",
              "    <tr>\n",
              "      <th>17</th>\n",
              "      <td>Università Cattolica del Sacro Cuore</td>\n",
              "      <td>NaN</td>\n",
              "    </tr>\n",
              "    <tr>\n",
              "      <th>18</th>\n",
              "      <td>Università degli Studi di BOLOGNA</td>\n",
              "      <td>NaN</td>\n",
              "    </tr>\n",
              "    <tr>\n",
              "      <th>19</th>\n",
              "      <td>Università degli Studi di MILANO</td>\n",
              "      <td>NaN</td>\n",
              "    </tr>\n",
              "    <tr>\n",
              "      <th>20</th>\n",
              "      <td>Libera Università di lingue e comunicazione IU...</td>\n",
              "      <td>NaN</td>\n",
              "    </tr>\n",
              "    <tr>\n",
              "      <th>21</th>\n",
              "      <td>Università degli Studi di MILANO</td>\n",
              "      <td>NaN</td>\n",
              "    </tr>\n",
              "    <tr>\n",
              "      <th>22</th>\n",
              "      <td>Università degli Studi di MODENA e REGGIO EMILIA</td>\n",
              "      <td>NaN</td>\n",
              "    </tr>\n",
              "    <tr>\n",
              "      <th>23</th>\n",
              "      <td>Università degli Studi di BERGAMO</td>\n",
              "      <td>NaN</td>\n",
              "    </tr>\n",
              "    <tr>\n",
              "      <th>24</th>\n",
              "      <td>Università degli Studi di TRIESTE</td>\n",
              "      <td>NaN</td>\n",
              "    </tr>\n",
              "    <tr>\n",
              "      <th>25</th>\n",
              "      <td>Università degli Studi di MILANO-BICOCCA</td>\n",
              "      <td>NaN</td>\n",
              "    </tr>\n",
              "    <tr>\n",
              "      <th>26</th>\n",
              "      <td>Università degli Studi di PARMA</td>\n",
              "      <td>NaN</td>\n",
              "    </tr>\n",
              "    <tr>\n",
              "      <th>27</th>\n",
              "      <td>Università degli Studi di MILANO</td>\n",
              "      <td>NaN</td>\n",
              "    </tr>\n",
              "    <tr>\n",
              "      <th>28</th>\n",
              "      <td>Università degli Studi di MILANO-BICOCCA</td>\n",
              "      <td>NaN</td>\n",
              "    </tr>\n",
              "    <tr>\n",
              "      <th>29</th>\n",
              "      <td>Università degli Studi di MILANO-BICOCCA</td>\n",
              "      <td>NaN</td>\n",
              "    </tr>\n",
              "    <tr>\n",
              "      <th>30</th>\n",
              "      <td>Politecnico di MILANO</td>\n",
              "      <td>NaN</td>\n",
              "    </tr>\n",
              "    <tr>\n",
              "      <th>31</th>\n",
              "      <td>Università degli Studi di MILANO</td>\n",
              "      <td>NaN</td>\n",
              "    </tr>\n",
              "    <tr>\n",
              "      <th>32</th>\n",
              "      <td>Università degli Studi G d'Annunzio CHIETI-PES...</td>\n",
              "      <td>NaN</td>\n",
              "    </tr>\n",
              "    <tr>\n",
              "      <th>33</th>\n",
              "      <td>Università di PISA</td>\n",
              "      <td>NaN</td>\n",
              "    </tr>\n",
              "    <tr>\n",
              "      <th>34</th>\n",
              "      <td>Università degli Studi Internazionali di ROMA ...</td>\n",
              "      <td>NaN</td>\n",
              "    </tr>\n",
              "    <tr>\n",
              "      <th>35</th>\n",
              "      <td>Università degli Studi Internazionali di ROMA ...</td>\n",
              "      <td>NaN</td>\n",
              "    </tr>\n",
              "    <tr>\n",
              "      <th>36</th>\n",
              "      <td>Università degli Studi di PALERMO</td>\n",
              "      <td>NaN</td>\n",
              "    </tr>\n",
              "    <tr>\n",
              "      <th>37</th>\n",
              "      <td>Università degli Studi di BOLOGNA</td>\n",
              "      <td>NaN</td>\n",
              "    </tr>\n",
              "    <tr>\n",
              "      <th>38</th>\n",
              "      <td>Università degli Studi di TRENTO</td>\n",
              "      <td>NaN</td>\n",
              "    </tr>\n",
              "    <tr>\n",
              "      <th>39</th>\n",
              "      <td>NaN</td>\n",
              "      <td>IUSVE</td>\n",
              "    </tr>\n",
              "    <tr>\n",
              "      <th>40</th>\n",
              "      <td>NaN</td>\n",
              "      <td>IUSVE</td>\n",
              "    </tr>\n",
              "    <tr>\n",
              "      <th>41</th>\n",
              "      <td>Università degli Studi di PARMA</td>\n",
              "      <td>NaN</td>\n",
              "    </tr>\n",
              "    <tr>\n",
              "      <th>42</th>\n",
              "      <td>Università degli Studi di PADOVA</td>\n",
              "      <td>NaN</td>\n",
              "    </tr>\n",
              "    <tr>\n",
              "      <th>43</th>\n",
              "      <td>Università degli Studi di MODENA e REGGIO EMILIA</td>\n",
              "      <td>NaN</td>\n",
              "    </tr>\n",
              "    <tr>\n",
              "      <th>44</th>\n",
              "      <td>Università degli Studi di MILANO</td>\n",
              "      <td>NaN</td>\n",
              "    </tr>\n",
              "    <tr>\n",
              "      <th>45</th>\n",
              "      <td>Università degli Studi di ROMA La Sapienza</td>\n",
              "      <td>NaN</td>\n",
              "    </tr>\n",
              "    <tr>\n",
              "      <th>46</th>\n",
              "      <td>Politecnico di BARI</td>\n",
              "      <td>NaN</td>\n",
              "    </tr>\n",
              "    <tr>\n",
              "      <th>47</th>\n",
              "      <td>Politecnico di TORINO</td>\n",
              "      <td>NaN</td>\n",
              "    </tr>\n",
              "    <tr>\n",
              "      <th>48</th>\n",
              "      <td>Università degli Studi di ROMA La Sapienza</td>\n",
              "      <td>NaN</td>\n",
              "    </tr>\n",
              "    <tr>\n",
              "      <th>49</th>\n",
              "      <td>Politecnico di MILANO</td>\n",
              "      <td>NaN</td>\n",
              "    </tr>\n",
              "  </tbody>\n",
              "</table>\n",
              "</div>"
            ],
            "text/plain": [
              "                                           university other_uni\n",
              "0                     Università degli Studi di PARMA       NaN\n",
              "1                     Università degli Studi di PARMA       NaN\n",
              "2                     Università degli Studi di PARMA       NaN\n",
              "3                     Università degli Studi di PARMA       NaN\n",
              "4                    Università degli Studi di VERONA       NaN\n",
              "5    Università degli Studi di MODENA e REGGIO EMILIA       NaN\n",
              "6                     Università degli Studi di PARMA       NaN\n",
              "7        Università degli Studi di NAPOLI Federico II       NaN\n",
              "8                    Università degli Studi di PADOVA       NaN\n",
              "9         Università degli Studi di ROMA Foro Italico       NaN\n",
              "10   Università degli Studi di MODENA e REGGIO EMILIA       NaN\n",
              "11                                 Università di PISA       NaN\n",
              "12                    Università degli Studi di PARMA       NaN\n",
              "13         Università degli Studi di ROMA La Sapienza       NaN\n",
              "14                    Università degli Studi di PARMA       NaN\n",
              "15                   Università degli Studi di VERONA       NaN\n",
              "16                    Università degli Studi di PARMA       NaN\n",
              "17               Università Cattolica del Sacro Cuore       NaN\n",
              "18                  Università degli Studi di BOLOGNA       NaN\n",
              "19                   Università degli Studi di MILANO       NaN\n",
              "20  Libera Università di lingue e comunicazione IU...       NaN\n",
              "21                   Università degli Studi di MILANO       NaN\n",
              "22   Università degli Studi di MODENA e REGGIO EMILIA       NaN\n",
              "23                  Università degli Studi di BERGAMO       NaN\n",
              "24                  Università degli Studi di TRIESTE       NaN\n",
              "25           Università degli Studi di MILANO-BICOCCA       NaN\n",
              "26                    Università degli Studi di PARMA       NaN\n",
              "27                   Università degli Studi di MILANO       NaN\n",
              "28           Università degli Studi di MILANO-BICOCCA       NaN\n",
              "29           Università degli Studi di MILANO-BICOCCA       NaN\n",
              "30                              Politecnico di MILANO       NaN\n",
              "31                   Università degli Studi di MILANO       NaN\n",
              "32  Università degli Studi G d'Annunzio CHIETI-PES...       NaN\n",
              "33                                 Università di PISA       NaN\n",
              "34  Università degli Studi Internazionali di ROMA ...       NaN\n",
              "35  Università degli Studi Internazionali di ROMA ...       NaN\n",
              "36                  Università degli Studi di PALERMO       NaN\n",
              "37                  Università degli Studi di BOLOGNA       NaN\n",
              "38                   Università degli Studi di TRENTO       NaN\n",
              "39                                                NaN     IUSVE\n",
              "40                                                NaN     IUSVE\n",
              "41                    Università degli Studi di PARMA       NaN\n",
              "42                   Università degli Studi di PADOVA       NaN\n",
              "43   Università degli Studi di MODENA e REGGIO EMILIA       NaN\n",
              "44                   Università degli Studi di MILANO       NaN\n",
              "45         Università degli Studi di ROMA La Sapienza       NaN\n",
              "46                                Politecnico di BARI       NaN\n",
              "47                              Politecnico di TORINO       NaN\n",
              "48         Università degli Studi di ROMA La Sapienza       NaN\n",
              "49                              Politecnico di MILANO       NaN"
            ]
          },
          "metadata": {
            "tags": []
          },
          "execution_count": 17
        }
      ]
    },
    {
      "cell_type": "markdown",
      "metadata": {
        "id": "ILdth7986YjS"
      },
      "source": [
        "### 2- Merge tra colonna university e other_uni"
      ]
    },
    {
      "cell_type": "code",
      "metadata": {
        "id": "kyKXxHmg6lTS"
      },
      "source": [
        "df_graduate['university']=df_graduate['university'].combine_first(df_graduate['other_uni'])\n",
        "#df_graduate['university'].head(50)"
      ],
      "execution_count": 18,
      "outputs": []
    },
    {
      "cell_type": "markdown",
      "metadata": {
        "id": "SelBzcS46xQH"
      },
      "source": [
        "###3- Eliminazione delle righe che contengono ancora 'Nan' nella colonna university"
      ]
    },
    {
      "cell_type": "code",
      "metadata": {
        "colab": {
          "base_uri": "https://localhost:8080/"
        },
        "id": "7MX5rxjc7DKC",
        "outputId": "ba388537-82ee-4b18-c099-f46b5c516a2e"
      },
      "source": [
        "df_graduate = df_graduate[df_graduate['university'].notna()]\n",
        "df_graduate.shape"
      ],
      "execution_count": 19,
      "outputs": [
        {
          "output_type": "execute_result",
          "data": {
            "text/plain": [
              "(57, 85)"
            ]
          },
          "metadata": {
            "tags": []
          },
          "execution_count": 19
        }
      ]
    },
    {
      "cell_type": "markdown",
      "metadata": {
        "id": "8CnbCUrwtIFw"
      },
      "source": [
        "#GESTIONE VALORI MANCANTI NELLA COLONNA CORSO DI LAUREA"
      ]
    },
    {
      "cell_type": "code",
      "metadata": {
        "id": "bkhMGJvFcDKD"
      },
      "source": [
        "#acronimi\n",
        "slang_degree_course={\"ctf\":\"chimica e tecnologie farmaceutiche\",\n",
        "       \"clemi\": \"economia e marketing internazionale\", \n",
        "       \"sztpa\": \"scienze zootecniche e tecnologie delle produzioni animali\", \n",
        "       \"smid\": \"statistica matematica e trattamento informatico dati\", \n",
        "       \"clei\": \"economia internazionale\",\n",
        "       \"clem\": \"economia e marketing\", \n",
        "       \"dams\": \"discipline delle arti della musica e dello spettacolo\",\n",
        "       \"ctc\": \"chimica e tecnologie chimiche\",\n",
        "       \"pmts\": \"planning management of tourism systems\",\n",
        "       \"eifi\":  \"lingue moderne comunicazione cooperazione internazionale\",\n",
        "       \"lms\":  \"letteratura musica spettacolo\"\n",
        "        }\n",
        "#caratteri speciali\n",
        "special_char=[',',\"’\",\"'\",'<', '>', '.', '-', '_', '/', ': ', ' & ']"
      ],
      "execution_count": 20,
      "outputs": []
    },
    {
      "cell_type": "markdown",
      "metadata": {
        "id": "uYNRW-YNvHcS"
      },
      "source": [
        "## Studenti"
      ]
    },
    {
      "cell_type": "markdown",
      "metadata": {
        "id": "jE8umoCqu9-H"
      },
      "source": [
        "### Elimino righe che hanno valore nullo nel campo degree_course"
      ]
    },
    {
      "cell_type": "code",
      "metadata": {
        "colab": {
          "base_uri": "https://localhost:8080/"
        },
        "id": "gb-1VBR_uw8I",
        "outputId": "f4805ef1-5047-4a8a-e8c5-cb650ed3287d"
      },
      "source": [
        "df_students = df_students[df_students['degree_course'].notna()]\n",
        "df_students.shape"
      ],
      "execution_count": 21,
      "outputs": [
        {
          "output_type": "execute_result",
          "data": {
            "text/plain": [
              "(690, 89)"
            ]
          },
          "metadata": {
            "tags": []
          },
          "execution_count": 21
        }
      ]
    },
    {
      "cell_type": "markdown",
      "metadata": {
        "id": "xwC1MGeA0mhv"
      },
      "source": [
        "### Lavoro su una nuova colonna creata ad hoc"
      ]
    },
    {
      "cell_type": "code",
      "metadata": {
        "id": "Ne_cxm3_0OOc"
      },
      "source": [
        "df_students['clean_degree_course']=df_students['degree_course']"
      ],
      "execution_count": 22,
      "outputs": []
    },
    {
      "cell_type": "markdown",
      "metadata": {
        "id": "SwqGqiC3vjdm"
      },
      "source": [
        "###Pulisco i dati"
      ]
    },
    {
      "cell_type": "code",
      "metadata": {
        "id": "SwSWss8ySzj4"
      },
      "source": [
        "#metto in minuscolo\n",
        "df_students['clean_degree_course']=df_students['clean_degree_course'].apply(lambda x: x.lower())\n",
        "#df_students['degree_course'].head(50)"
      ],
      "execution_count": 23,
      "outputs": []
    },
    {
      "cell_type": "markdown",
      "metadata": {
        "id": "Kf4mGcpFRyqX"
      },
      "source": [
        "####Riconoscimento della lingua...non funziona"
      ]
    },
    {
      "cell_type": "code",
      "metadata": {
        "id": "O9oo21RgM5hc"
      },
      "source": [
        "#import langid\n",
        "#langid.set_languages(['it', 'en'])  # ISO 639-1 codes\n",
        "#def detect_language(text):\n",
        "  #lang, score = langid.classify(text)\n",
        "  #return lang\n",
        "#df_students['language_degree_course']=df_students['clean_degree_course'].apply(lambda x: detect_language(x))\n",
        "#df_students[['language_degree_course', 'clean_degree_course']][df_students['language_degree_course'].str.contains('en')]"
      ],
      "execution_count": 24,
      "outputs": []
    },
    {
      "cell_type": "code",
      "metadata": {
        "id": "hu1rMmvgaiko"
      },
      "source": [
        "for key in slang_degree_course.keys():\n",
        "  df_students.loc[df_students['clean_degree_course'].str.contains(key), 'clean_degree_course'] = slang_degree_course[key]\n",
        "#df_students[['clean_degree_course','degree_course']].head(50)"
      ],
      "execution_count": 25,
      "outputs": []
    },
    {
      "cell_type": "code",
      "metadata": {
        "id": "zmAL7sk1yq9r"
      },
      "source": [
        "df_students.loc[df_students['clean_degree_course'].str.contains('medicina') & ~df_students['clean_degree_course'].str.contains('veterinaria'), 'clean_degree_course'] = 'medicina e chirurgia'\n",
        "df_students.loc[df_students['clean_degree_course'].str.contains('informatica') & df_students['clean_degree_course'].str.contains('elettronica') & df_students['clean_degree_course'].str.contains('telecomunicazioni') , 'clean_degree_course'] = 'ingegneria informatica elettronica e telecomunicazioni'\n",
        "df_students.loc[df_students['clean_degree_course'].str.contains('comunicazione e media per le industrie creative'), 'clean_degree_course'] = 'comunicazione e media contemporanei per le industrie creative'\n",
        "df_students.loc[df_students['clean_degree_course'].str.contains('elettronica') & ~df_students['clean_degree_course'].str.contains('ingegneria' )& ~df_students['clean_degree_course'].str.contains('ing'), 'clean_degree_course'] = 'ingegneria elettronica'\n",
        "df_students.loc[df_students['clean_degree_course'].str.contains('interfacce e tecnologie della comunicazion'), 'clean_degree_course'] = 'interfacce uomo macchina e tecnologie della comunicazione'\n",
        "df_students.loc[df_students['clean_degree_course'].str.contains('letteratura musica e spettacolo'), 'clean_degree_course'] = 'letteratura musica e spettacolo'\n",
        "#df_students['clean_degree_course']e "
      ],
      "execution_count": 26,
      "outputs": []
    },
    {
      "cell_type": "code",
      "metadata": {
        "id": "0ZT1CXdc1lIz"
      },
      "source": [
        "#eliminare i corso di laurea\n",
        "df_students['clean_degree_course']=df_students['clean_degree_course'].str.replace('corso di laurea', '')"
      ],
      "execution_count": 27,
      "outputs": []
    },
    {
      "cell_type": "code",
      "metadata": {
        "id": "WyrE-GOCYP_g"
      },
      "source": [
        "#rimozione di caratteri speciali\n",
        "for i in range(0, len(special_char)):\n",
        "  df_students['clean_degree_course']=df_students['clean_degree_course'].str.replace(special_char[i], ' ')\n",
        "#df_students['degree_course'].head(50)"
      ],
      "execution_count": 28,
      "outputs": []
    },
    {
      "cell_type": "code",
      "metadata": {
        "id": "aAULcN7f8u3n"
      },
      "source": [
        "df_students['clean_degree_course']=df_students['clean_degree_course'].str.replace(r'\\sl.*[0-9]+', '') #lm19 , l-12\n",
        "df_students['clean_degree_course']=df_students['clean_degree_course'].str.replace('ingegneria ', 'ing ')\n",
        "df_students['clean_degree_course']=df_students['clean_degree_course'].str.replace('ingeneria ', 'ing ')\n",
        "df_students['clean_degree_course']=df_students['clean_degree_course'].str.replace(' ciclo unico', '')\n",
        "df_students['clean_degree_course']=df_students['clean_degree_course'].str.replace(r'\\scurriculum\\s.*', '')\n",
        "df_students['clean_degree_course']=df_students['clean_degree_course'].str.replace(r'indirizzo.*', '')\n",
        "df_students['clean_degree_course']=df_students['clean_degree_course'].str.replace(r'[(].*[)]*', '')\n",
        "#df_students.loc[df_students['clean_degree_course'].str.contains(r'l.*[0-9]+'), 'clean_degree_course'] "
      ],
      "execution_count": 29,
      "outputs": []
    },
    {
      "cell_type": "code",
      "metadata": {
        "id": "FY9C1rzspG94"
      },
      "source": [
        "#eliminazione spazi bianchi prima e dopo una stringa\n",
        "df_students['clean_degree_course']=df_students['clean_degree_course'].str.strip()\n",
        "#df_students['degree_course'].head(50)"
      ],
      "execution_count": 30,
      "outputs": []
    },
    {
      "cell_type": "code",
      "metadata": {
        "id": "A8zc60nUBIk7"
      },
      "source": [
        "#elimino doppi spazi bianchi\n",
        "df_students['clean_degree_course']=df_students['clean_degree_course'].str.replace('  ', ' ')"
      ],
      "execution_count": 31,
      "outputs": []
    },
    {
      "cell_type": "markdown",
      "metadata": {
        "id": "6lUz781M5dpj"
      },
      "source": [
        "###Eliminazione stop words"
      ]
    },
    {
      "cell_type": "code",
      "metadata": {
        "colab": {
          "base_uri": "https://localhost:8080/"
        },
        "id": "ssu89v4k5SnF",
        "outputId": "12c948bb-4a46-4c90-fcb0-7cf2144f6831"
      },
      "source": [
        "# Split the sentences to lists of words.\n",
        "df_students['clean_degree_course'] = df_students['clean_degree_course'].str.split()\n",
        "df_students['clean_degree_course'] "
      ],
      "execution_count": 32,
      "outputs": [
        {
          "output_type": "execute_result",
          "data": {
            "text/plain": [
              "0                          [ing, aerospaziale]\n",
              "1                     [economia, e, commercio]\n",
              "2                     [medicina, e, chirurgia]\n",
              "3                        [psicologia, clinica]\n",
              "4                     [medicina, e, chirurgia]\n",
              "                        ...                   \n",
              "713                           [ing, biomedica]\n",
              "714                      [scienze, biologiche]\n",
              "715                              [informatica]\n",
              "716                                   [fisica]\n",
              "718    [chimica, e, tecnologie, farmaceutiche]\n",
              "Name: clean_degree_course, Length: 690, dtype: object"
            ]
          },
          "metadata": {
            "tags": []
          },
          "execution_count": 32
        }
      ]
    },
    {
      "cell_type": "code",
      "metadata": {
        "id": "grYU4kVAFdRp"
      },
      "source": [
        "stop_ita = stopwords.words('italian')\n",
        "df_students['clean_degree_course']=df_students['clean_degree_course'].apply(lambda x: [item for item in x if item not in stop_ita])\n",
        "#stop_ita"
      ],
      "execution_count": 33,
      "outputs": []
    },
    {
      "cell_type": "code",
      "metadata": {
        "id": "y0rBC-nbK96H"
      },
      "source": [
        "stop_en = stopwords.words('english')\n",
        "df_students['clean_degree_course']=df_students['clean_degree_course'].apply(lambda x: [item for item in x if item not in stop_en])\n",
        "#stop_en"
      ],
      "execution_count": 34,
      "outputs": []
    },
    {
      "cell_type": "markdown",
      "metadata": {
        "id": "AZ5smXCCSkTW"
      },
      "source": [
        "###Estrazione della radice-stemming"
      ]
    },
    {
      "cell_type": "code",
      "metadata": {
        "id": "2TRCsRWA5kKi"
      },
      "source": [
        "#stemmer = ItalianStemmer()\n",
        "#df_students['clean_degree_course'] = df_students['clean_degree_course'].apply(lambda x: [stemmer.stem(y) for y in x]) # Stem every word.\n",
        "#df_students['clean_degree_course'] "
      ],
      "execution_count": 35,
      "outputs": []
    },
    {
      "cell_type": "code",
      "metadata": {
        "id": "kp1A65vv7j4m"
      },
      "source": [
        "#Ricompongo le frasi\n",
        "df_students['clean_degree_course']=df_students['clean_degree_course'].apply(' '.join)"
      ],
      "execution_count": 36,
      "outputs": []
    },
    {
      "cell_type": "code",
      "metadata": {
        "colab": {
          "base_uri": "https://localhost:8080/",
          "height": 1000
        },
        "id": "xf7fPEFb1DsC",
        "outputId": "856df1a3-ce1a-4db5-928c-31caebc15f76"
      },
      "source": [
        "#TODO remove fra (codice di prova)\n",
        "df_students[['clean_degree_course','degree_course']].head(50)"
      ],
      "execution_count": 57,
      "outputs": [
        {
          "output_type": "execute_result",
          "data": {
            "text/html": [
              "<div>\n",
              "<style scoped>\n",
              "    .dataframe tbody tr th:only-of-type {\n",
              "        vertical-align: middle;\n",
              "    }\n",
              "\n",
              "    .dataframe tbody tr th {\n",
              "        vertical-align: top;\n",
              "    }\n",
              "\n",
              "    .dataframe thead th {\n",
              "        text-align: right;\n",
              "    }\n",
              "</style>\n",
              "<table border=\"1\" class=\"dataframe\">\n",
              "  <thead>\n",
              "    <tr style=\"text-align: right;\">\n",
              "      <th></th>\n",
              "      <th>clean_degree_course</th>\n",
              "      <th>degree_course</th>\n",
              "    </tr>\n",
              "  </thead>\n",
              "  <tbody>\n",
              "    <tr>\n",
              "      <th>0</th>\n",
              "      <td>ing aerospaziale</td>\n",
              "      <td>ingegneria aerospaziale</td>\n",
              "    </tr>\n",
              "    <tr>\n",
              "      <th>1</th>\n",
              "      <td>economia commercio</td>\n",
              "      <td>Economia e commercio</td>\n",
              "    </tr>\n",
              "    <tr>\n",
              "      <th>2</th>\n",
              "      <td>medicina chirurgia</td>\n",
              "      <td>Medicina</td>\n",
              "    </tr>\n",
              "    <tr>\n",
              "      <th>3</th>\n",
              "      <td>psicologia clinica</td>\n",
              "      <td>Psicologia clinica</td>\n",
              "    </tr>\n",
              "    <tr>\n",
              "      <th>4</th>\n",
              "      <td>medicina chirurgia</td>\n",
              "      <td>Medicina e chirurgia</td>\n",
              "    </tr>\n",
              "    <tr>\n",
              "      <th>5</th>\n",
              "      <td>infermieristica</td>\n",
              "      <td>Infermieristica</td>\n",
              "    </tr>\n",
              "    <tr>\n",
              "      <th>6</th>\n",
              "      <td>montaggio cinematografico televisivo</td>\n",
              "      <td>Montaggio Cinematografico e Televisivo</td>\n",
              "    </tr>\n",
              "    <tr>\n",
              "      <th>7</th>\n",
              "      <td>lingua cultura italiane stranieri</td>\n",
              "      <td>Lingua e cultura italiane per stranieri</td>\n",
              "    </tr>\n",
              "    <tr>\n",
              "      <th>8</th>\n",
              "      <td>professioni sanitarie</td>\n",
              "      <td>Professioni Sanitarie</td>\n",
              "    </tr>\n",
              "    <tr>\n",
              "      <th>9</th>\n",
              "      <td>matematica</td>\n",
              "      <td>Matematica</td>\n",
              "    </tr>\n",
              "    <tr>\n",
              "      <th>10</th>\n",
              "      <td>digital marketing</td>\n",
              "      <td>Digital Marketing</td>\n",
              "    </tr>\n",
              "    <tr>\n",
              "      <th>11</th>\n",
              "      <td>medicina chirurgia</td>\n",
              "      <td>Medicina e chirurgia</td>\n",
              "    </tr>\n",
              "    <tr>\n",
              "      <th>12</th>\n",
              "      <td>ostetricia</td>\n",
              "      <td>Ostetricia</td>\n",
              "    </tr>\n",
              "    <tr>\n",
              "      <th>13</th>\n",
              "      <td>pedagogia</td>\n",
              "      <td>Pedagogia</td>\n",
              "    </tr>\n",
              "    <tr>\n",
              "      <th>14</th>\n",
              "      <td>economia commercio</td>\n",
              "      <td>Economia e commercio</td>\n",
              "    </tr>\n",
              "    <tr>\n",
              "      <th>15</th>\n",
              "      <td>scienze storiche</td>\n",
              "      <td>Scienze storiche</td>\n",
              "    </tr>\n",
              "    <tr>\n",
              "      <th>16</th>\n",
              "      <td>medicina chirurgia</td>\n",
              "      <td>Medicina e chirurgia</td>\n",
              "    </tr>\n",
              "    <tr>\n",
              "      <th>17</th>\n",
              "      <td>medicina chirurgia</td>\n",
              "      <td>Medicina e Chirurgia</td>\n",
              "    </tr>\n",
              "    <tr>\n",
              "      <th>18</th>\n",
              "      <td>medicina chirurgia</td>\n",
              "      <td>medicina e chirurgia</td>\n",
              "    </tr>\n",
              "    <tr>\n",
              "      <th>19</th>\n",
              "      <td>scienze statistiche economiche</td>\n",
              "      <td>Scienze Statistiche ed Economiche</td>\n",
              "    </tr>\n",
              "    <tr>\n",
              "      <th>20</th>\n",
              "      <td>scienze tecnologie informatiche</td>\n",
              "      <td>Scienze e tecnologie informatiche</td>\n",
              "    </tr>\n",
              "    <tr>\n",
              "      <th>21</th>\n",
              "      <td>scienze politiche</td>\n",
              "      <td>Scienze  politiche</td>\n",
              "    </tr>\n",
              "    <tr>\n",
              "      <th>22</th>\n",
              "      <td>turismo culturale</td>\n",
              "      <td>Turismo culturale</td>\n",
              "    </tr>\n",
              "    <tr>\n",
              "      <th>23</th>\n",
              "      <td>scienze turismo comunità locale</td>\n",
              "      <td>Scienze del turismo e comunità locale</td>\n",
              "    </tr>\n",
              "    <tr>\n",
              "      <th>24</th>\n",
              "      <td>scienze economiche</td>\n",
              "      <td>Scienze economiche</td>\n",
              "    </tr>\n",
              "    <tr>\n",
              "      <th>25</th>\n",
              "      <td>scienze tecnologie ambiente</td>\n",
              "      <td>Scienze e tecnologie per l'ambiente</td>\n",
              "    </tr>\n",
              "    <tr>\n",
              "      <th>26</th>\n",
              "      <td>giurisprudenza</td>\n",
              "      <td>Giurisprudenza</td>\n",
              "    </tr>\n",
              "    <tr>\n",
              "      <th>28</th>\n",
              "      <td>ing robotica automazione</td>\n",
              "      <td>ingegneria robotica e dell'automazione</td>\n",
              "    </tr>\n",
              "    <tr>\n",
              "      <th>29</th>\n",
              "      <td>lettere musica spettacolo</td>\n",
              "      <td>Lettere Musica e Spettacolo</td>\n",
              "    </tr>\n",
              "    <tr>\n",
              "      <th>30</th>\n",
              "      <td>ing elettronica informatica</td>\n",
              "      <td>Ingegneria elettronica e informatica</td>\n",
              "    </tr>\n",
              "    <tr>\n",
              "      <th>31</th>\n",
              "      <td>medicina chirurgia</td>\n",
              "      <td>Medicina</td>\n",
              "    </tr>\n",
              "    <tr>\n",
              "      <th>32</th>\n",
              "      <td>lingue letterature studi interculturali</td>\n",
              "      <td>Lingue, letterature e studi interculturali</td>\n",
              "    </tr>\n",
              "    <tr>\n",
              "      <th>33</th>\n",
              "      <td>gestione impresa tecnologie digitali</td>\n",
              "      <td>gestione d'impresa e tecnologie digitali</td>\n",
              "    </tr>\n",
              "    <tr>\n",
              "      <th>34</th>\n",
              "      <td>lingue culture comparate</td>\n",
              "      <td>Lingue e culture comparate</td>\n",
              "    </tr>\n",
              "    <tr>\n",
              "      <th>35</th>\n",
              "      <td>biotecnologie</td>\n",
              "      <td>Biotecnologie</td>\n",
              "    </tr>\n",
              "    <tr>\n",
              "      <th>36</th>\n",
              "      <td>mediazione linguistica</td>\n",
              "      <td>Mediazione linguistica</td>\n",
              "    </tr>\n",
              "    <tr>\n",
              "      <th>37</th>\n",
              "      <td>statistica matematica trattamento informatico ...</td>\n",
              "      <td>Statistica matematica e trattamento informatic...</td>\n",
              "    </tr>\n",
              "    <tr>\n",
              "      <th>38</th>\n",
              "      <td>logopedia</td>\n",
              "      <td>Logopedia</td>\n",
              "    </tr>\n",
              "    <tr>\n",
              "      <th>39</th>\n",
              "      <td>scienze biologiche</td>\n",
              "      <td>Scienze Biologiche</td>\n",
              "    </tr>\n",
              "    <tr>\n",
              "      <th>40</th>\n",
              "      <td>economia management marittimo portuale</td>\n",
              "      <td>Economia e Management Marittimo Portuale</td>\n",
              "    </tr>\n",
              "    <tr>\n",
              "      <th>41</th>\n",
              "      <td>economia management</td>\n",
              "      <td>Economia e Management</td>\n",
              "    </tr>\n",
              "    <tr>\n",
              "      <th>42</th>\n",
              "      <td>ing informatica</td>\n",
              "      <td>Ingegneria Informatica</td>\n",
              "    </tr>\n",
              "    <tr>\n",
              "      <th>43</th>\n",
              "      <td>informatica</td>\n",
              "      <td>Informatica</td>\n",
              "    </tr>\n",
              "    <tr>\n",
              "      <th>44</th>\n",
              "      <td>design prodotto nautica</td>\n",
              "      <td>Design del prodotto e della nautica</td>\n",
              "    </tr>\n",
              "    <tr>\n",
              "      <th>45</th>\n",
              "      <td>scienze zootecniche tecnologie produzione animale</td>\n",
              "      <td>SCIENZE ZOOTECNICHE E TECNOLOGIE DELLA PRODUZI...</td>\n",
              "    </tr>\n",
              "    <tr>\n",
              "      <th>46</th>\n",
              "      <td>artificial intelligence robotics</td>\n",
              "      <td>Artificial Intelligence and Robotics</td>\n",
              "    </tr>\n",
              "    <tr>\n",
              "      <th>47</th>\n",
              "      <td>psicologia processi cognitivi</td>\n",
              "      <td>Psicologia dei processi cognitivi</td>\n",
              "    </tr>\n",
              "    <tr>\n",
              "      <th>48</th>\n",
              "      <td>scienza materiali</td>\n",
              "      <td>Scienza dei materiali</td>\n",
              "    </tr>\n",
              "    <tr>\n",
              "      <th>49</th>\n",
              "      <td>ing meccanica</td>\n",
              "      <td>Ingegneria Meccanica</td>\n",
              "    </tr>\n",
              "    <tr>\n",
              "      <th>50</th>\n",
              "      <td>medicina chirurgia</td>\n",
              "      <td>Corso di laurea in medicina e chirurgia</td>\n",
              "    </tr>\n",
              "  </tbody>\n",
              "</table>\n",
              "</div>"
            ],
            "text/plain": [
              "                                  clean_degree_course                                      degree_course\n",
              "0                                    ing aerospaziale                            ingegneria aerospaziale\n",
              "1                                  economia commercio                               Economia e commercio\n",
              "2                                  medicina chirurgia                                           Medicina\n",
              "3                                  psicologia clinica                                 Psicologia clinica\n",
              "4                                  medicina chirurgia                              Medicina e chirurgia \n",
              "5                                     infermieristica                                   Infermieristica \n",
              "6                montaggio cinematografico televisivo             Montaggio Cinematografico e Televisivo\n",
              "7                   lingua cultura italiane stranieri            Lingua e cultura italiane per stranieri\n",
              "8                               professioni sanitarie                              Professioni Sanitarie\n",
              "9                                          matematica                                         Matematica\n",
              "10                                  digital marketing                                 Digital Marketing \n",
              "11                                 medicina chirurgia                              Medicina e chirurgia \n",
              "12                                         ostetricia                                        Ostetricia \n",
              "13                                          pedagogia                                         Pedagogia \n",
              "14                                 economia commercio                               Economia e commercio\n",
              "15                                   scienze storiche                                  Scienze storiche \n",
              "16                                 medicina chirurgia                              Medicina e chirurgia \n",
              "17                                 medicina chirurgia                               Medicina e Chirurgia\n",
              "18                                 medicina chirurgia                               medicina e chirurgia\n",
              "19                     scienze statistiche economiche                  Scienze Statistiche ed Economiche\n",
              "20                    scienze tecnologie informatiche                  Scienze e tecnologie informatiche\n",
              "21                                  scienze politiche                                 Scienze  politiche\n",
              "22                                  turismo culturale                                 Turismo culturale \n",
              "23                    scienze turismo comunità locale              Scienze del turismo e comunità locale\n",
              "24                                 scienze economiche                                Scienze economiche \n",
              "25                        scienze tecnologie ambiente               Scienze e tecnologie per l'ambiente \n",
              "26                                     giurisprudenza                                    Giurisprudenza \n",
              "28                           ing robotica automazione             ingegneria robotica e dell'automazione\n",
              "29                          lettere musica spettacolo                        Lettere Musica e Spettacolo\n",
              "30                        ing elettronica informatica               Ingegneria elettronica e informatica\n",
              "31                                 medicina chirurgia                                          Medicina \n",
              "32            lingue letterature studi interculturali         Lingue, letterature e studi interculturali\n",
              "33               gestione impresa tecnologie digitali           gestione d'impresa e tecnologie digitali\n",
              "34                           lingue culture comparate                         Lingue e culture comparate\n",
              "35                                      biotecnologie                                      Biotecnologie\n",
              "36                             mediazione linguistica                            Mediazione linguistica \n",
              "37  statistica matematica trattamento informatico ...  Statistica matematica e trattamento informatic...\n",
              "38                                          logopedia                                          Logopedia\n",
              "39                                 scienze biologiche                                 Scienze Biologiche\n",
              "40             economia management marittimo portuale          Economia e Management Marittimo Portuale \n",
              "41                                economia management                              Economia e Management\n",
              "42                                    ing informatica                             Ingegneria Informatica\n",
              "43                                        informatica                                        Informatica\n",
              "44                            design prodotto nautica               Design del prodotto e della nautica \n",
              "45  scienze zootecniche tecnologie produzione animale  SCIENZE ZOOTECNICHE E TECNOLOGIE DELLA PRODUZI...\n",
              "46                   artificial intelligence robotics               Artificial Intelligence and Robotics\n",
              "47                      psicologia processi cognitivi                  Psicologia dei processi cognitivi\n",
              "48                                  scienza materiali                             Scienza dei materiali \n",
              "49                                      ing meccanica                               Ingegneria Meccanica\n",
              "50                                 medicina chirurgia            Corso di laurea in medicina e chirurgia"
            ]
          },
          "metadata": {
            "tags": []
          },
          "execution_count": 57
        }
      ]
    },
    {
      "cell_type": "code",
      "metadata": {
        "colab": {
          "base_uri": "https://localhost:8080/"
        },
        "id": "oVCuyl3PmibJ",
        "outputId": "532b6322-dfb6-4fff-e745-5a24dc7470b8"
      },
      "source": [
        "degree_course=np.unique(df_students['clean_degree_course'])\n",
        "print(len(degree_course))\n",
        "print(degree_course)"
      ],
      "execution_count": 38,
      "outputs": [
        {
          "output_type": "stream",
          "text": [
            "246\n",
            "['advanced sportscar manufacturing' 'amministrazione direzione aziendale'\n",
            " 'amministrazione finanza' 'analisi processi sociali' 'archeologia'\n",
            " 'architettura' 'arti scienze spettacolo'\n",
            " 'artificial intelligence robotics' 'automation control engineering'\n",
            " 'automazione industriale' 'banca finanza' 'beni artistici spettacolo'\n",
            " 'beni culturali' 'beni culturali spettacolo' 'bioingegneria' 'biologia'\n",
            " 'biologia ecologia marina' 'biologia molecolare'\n",
            " 'biologia molecolare applicata nutrizione'\n",
            " 'biologia sperimentale applicata' 'biomedical engineering'\n",
            " 'bionanotecnologie' 'biotecnologie' 'biotecnologie mediche'\n",
            " 'biotecnologie sicurezza qualità agro alimentare' 'chimica'\n",
            " 'chimica clinica forense sport' 'chimica industriale'\n",
            " 'chimica tecnologia farmaceutiche' 'chimica tecnologie chimiche'\n",
            " 'chimica tecnologie farmaceutiche' 'civiltà lingue straniere moderne'\n",
            " 'computer science' 'comunicazione' 'comunicazione impresa risorse umane'\n",
            " 'comunicazione media contemporanei industrie creative'\n",
            " 'comunicazione media pubblicità' 'culture digitali comunicazione'\n",
            " 'data science' 'design' 'design prodotto industriale'\n",
            " 'design prodotto nautica' 'dietistica' 'digital marketing'\n",
            " 'direzione consulenza impresa' 'direzione impresa' 'diritto economia'\n",
            " 'diritto tecnologia' 'discipline arti musica spettacolo'\n",
            " 'ecologia etologia conservazione natura' 'economia'\n",
            " 'economia amministrazione imprese' 'economia aziendale'\n",
            " 'economia circolare' 'economia commercio' 'economia finanza'\n",
            " 'economia gestione aziendale' 'economia internazionale'\n",
            " 'economia management' 'economia management marittimo portuale'\n",
            " 'economia management nuove tecnologie digitali' 'economia marketing'\n",
            " 'economia marketing internazionale' 'economia marketing management'\n",
            " 'economia mercati digitali' 'economia mercati istituzioni'\n",
            " 'economics innovation' 'economics markets finance' 'economía management'\n",
            " 'electronic communications engineering' 'farmacia' 'filologia'\n",
            " 'filologia moderna' 'filosofia' 'finanza' 'finanza gestione rischio'\n",
            " 'finanza risk management' 'fisica' 'fisica materia materiali funzionali'\n",
            " 'food system' 'general management' 'gestione aziendale'\n",
            " 'gestione impresa tecnologie digitali' 'gestione territorio'\n",
            " 'giurisprudenza' 'igiene dentale' 'infermieristica' 'informatica' 'ing'\n",
            " 'ing aerospaziale' 'ing ambientale' 'ing biomeccanica' 'ing biomedica'\n",
            " 'ing chimica materiali' 'ing civile' 'ing civile ambientale'\n",
            " 'ing civile ambientale edile' 'ing edile architettura'\n",
            " 'ing edile costruzioni' 'ing elettrica' 'ing elettronica'\n",
            " 'ing elettronica informatica' 'ing elettronica telecomunicazioni'\n",
            " 'ing energia' 'ing gestionale' 'ing informatica'\n",
            " 'ing informatica comunicazioni elettronica'\n",
            " 'ing informatica elettronica telecomunicazioni'\n",
            " 'ing informatica robotics' 'ing informazione' 'ing materiali'\n",
            " 'ing meccanica' 'ing meccanica prodotto' 'ing medica'\n",
            " 'ing robotica automazione' 'ing sistemi informativi'\n",
            " 'ing tecnologie salute' 'ing veicolo'\n",
            " 'intercultural studies languages literatures'\n",
            " 'interfacce uomo macchina tecnologie comunicazione'\n",
            " 'international business development' 'letteratura musica spettacolo'\n",
            " 'lettere' 'lettere moderne' 'lettere musica spettacolo'\n",
            " 'libera professione' 'lingua cultura italiane stranieri'\n",
            " 'lingua cultura letteratura traduzione' 'lingue'\n",
            " 'lingue comunicazione interculturale impresa'\n",
            " 'lingue comunicazione internazionale' 'lingue culture comparate'\n",
            " 'lingue culture editoria' 'lingue culture europee'\n",
            " 'lingue culture moderne' 'lingue culture turismo' 'lingue impresa'\n",
            " 'lingue letterature culture straniere'\n",
            " 'lingue letterature mediazione culturale' 'lingue letterature straniere'\n",
            " 'lingue letterature straniere moderne'\n",
            " 'lingue letterature studi interculturali'\n",
            " 'lingue moderne comunicazione cooperazione internazionale'\n",
            " 'lingue orientali' 'lingue straniere comunicazione internazionale'\n",
            " 'logopedia' 'management' 'management impresa'\n",
            " 'management sostenibilità ambientale economia circolare'\n",
            " 'management turismo sport eventi' 'marketing internazionale'\n",
            " 'marketing management' 'marketing organizzazione impresa' 'matematica'\n",
            " 'matematica ingegneria' 'meccanica' 'mechanical engineering'\n",
            " 'mediazione interlinguistica interculturale' 'mediazione linguistica'\n",
            " 'mediazione linguistica interculturale' 'mediazioni linguistiche'\n",
            " 'medicina chirurgia' 'montaggio cinematografico televisivo'\n",
            " 'music engineering' 'odontoiatria protesi dentaria'\n",
            " 'operatore culturale turismo' 'ostetricia' 'pedagogia'\n",
            " 'planning management tourism systems' 'professioni contabili'\n",
            " 'professioni sanitarie' 'progettazione gestione turismo culturale'\n",
            " 'programmazione gestione servizi sociali'\n",
            " 'psicobiologia neuroscienze cognitive' 'psicologia' 'psicologia clinica'\n",
            " 'psicologia intervento clinico sociale' 'psicologia processi cognitivi'\n",
            " 'racing car design' 'scienza materiali' 'scienze ambientali'\n",
            " 'scienze ambiente natura' 'scienze antropologiche etnologiche'\n",
            " 'scienze archeologiche' 'scienze architettura' 'scienze biologiche'\n",
            " 'scienze comunicazione' 'scienze economiche' 'scienze educazione'\n",
            " 'scienze educazione formazione' 'scienze educazione formazione primaria'\n",
            " 'scienze educazione permanente formazione continua'\n",
            " 'scienze educazione processi formativi' 'scienze eduzazione'\n",
            " 'scienze filosofiche' 'scienze formazione primaria'\n",
            " 'scienze gastronomiche' 'scienze geologiche'\n",
            " 'scienze giuridiche impresa pubbliche amministrazioni'\n",
            " 'scienze infermieristiche' 'scienze materiali' 'scienze motorie'\n",
            " 'scienze motorie attività fisica preventiva adattata'\n",
            " 'scienze natura ambiente' 'scienze naturali' 'scienze pedagogiche'\n",
            " 'scienze politiche' 'scienze politiche relazioni internazionali'\n",
            " 'scienze politiche relazioni internazionali diritti umani'\n",
            " 'scienze politiche sociali internazionali'\n",
            " 'scienze prodotti erboristici salute' 'scienze psicogiche'\n",
            " 'scienze psicologiche' 'scienze psicologiche formazione'\n",
            " 'scienze statistiche economiche' 'scienze storiche'\n",
            " 'scienze tecniche attività motoria preventiva adattata'\n",
            " 'scienze tecniche attività motorie preventive adattate'\n",
            " 'scienze tecniche psicologicamente' 'scienze tecniche psicologiche'\n",
            " 'scienze tecnologie alimentari' 'scienze tecnologie ambiente'\n",
            " 'scienze tecnologie informatiche' 'scienze turismo comunità locale'\n",
            " 'scienze zootecniche produzioni animali'\n",
            " 'scienze zootecniche tecnologiche produzioni animali'\n",
            " 'scienze zootecniche tecnologie produzione animale'\n",
            " 'scienze zootecniche tecnologie produzioni animali' 'servizio sociale'\n",
            " 'sociologia' 'statistica economia impresa' 'statistica gestionale'\n",
            " 'statistica matematica trattamento informatico dati' 'storia'\n",
            " 'storia beni culturali' 'storia tutela beni artistici musicali'\n",
            " 'studi filosofici' 'tecniche edilizia'\n",
            " 'tecniche prevenzione ambiente luoghi lavoro'\n",
            " 'tecniche radiologia immagini radioterapia' 'tecnologie agrarie'\n",
            " 'tecnologie salute' 'teoria tecnologia comunicazione'\n",
            " 'trade consumer marketing' 'traduzione specialistica' 'turismo culturale']\n"
          ],
          "name": "stdout"
        }
      ]
    },
    {
      "cell_type": "markdown",
      "metadata": {
        "id": "PN3zmQFh7jLK"
      },
      "source": [
        "#UNIONE UNIVERSITA'-LAUREA"
      ]
    },
    {
      "cell_type": "code",
      "metadata": {
        "id": "pXKLvTTq7obl"
      },
      "source": [
        "#TODO: remove francesca\n",
        "#df_students['uni-course'] = df_students['university'].str.cat(df_students['degree_course'],sep=\" \")\n",
        "#df_students['uni-course']"
      ],
      "execution_count": 39,
      "outputs": []
    },
    {
      "cell_type": "code",
      "metadata": {
        "id": "OKk-9au68EHM"
      },
      "source": [
        "#df_graduate['uni-course'] = df_graduate['university'].str.cat(df_graduate['degree_course'],sep=\" \")\n",
        "#df_graduate['uni-course']"
      ],
      "execution_count": 40,
      "outputs": []
    },
    {
      "cell_type": "markdown",
      "metadata": {
        "id": "rGrpSeCM2VDJ"
      },
      "source": [
        "#DATI TRIENNALE E MAGISTRALE CICLO UNICO"
      ]
    },
    {
      "cell_type": "markdown",
      "metadata": {
        "id": "3zGEyAiEyThI"
      },
      "source": [
        "<p>Selezionare le righe secondo una determinata condizione</p>\n",
        "<a href=\"https://chrisalbon.com/python/data_wrangling/pandas_selecting_rows_on_conditions/\"> https://chrisalbon.com/python/data_wrangling/pandas_selecting_rows_on_conditions/</a>"
      ]
    },
    {
      "cell_type": "code",
      "metadata": {
        "colab": {
          "base_uri": "https://localhost:8080/"
        },
        "id": "-ca_1Bxjx1Av",
        "outputId": "5b43d02b-309e-4f1f-f161-d081ec779bcd"
      },
      "source": [
        "df_students_first_degree = df_students.query('study_type == \"Triennale\" | study_type == \"Magistrale_unico\"')\n",
        "#df_students_first_degree.isnull().sum()\n",
        "df_students_first_degree.shape\n",
        "#df_students_first_degree"
      ],
      "execution_count": 59,
      "outputs": [
        {
          "output_type": "execute_result",
          "data": {
            "text/plain": [
              "(552, 90)"
            ]
          },
          "metadata": {
            "tags": []
          },
          "execution_count": 59
        }
      ]
    },
    {
      "cell_type": "code",
      "metadata": {
        "colab": {
          "base_uri": "https://localhost:8080/"
        },
        "id": "CRXcfYdQ1AO9",
        "outputId": "8af69d95-49c1-4507-dca7-2e8ae201d6db"
      },
      "source": [
        "df_graduate_first_degree = df_graduate.query('study_type == \"Triennale\" | study_type == \"Magistrale_unico\"')\n",
        "#df_graduate_first_degree\n",
        "df_graduate_first_degree.shape"
      ],
      "execution_count": 42,
      "outputs": [
        {
          "output_type": "execute_result",
          "data": {
            "text/plain": [
              "(27, 85)"
            ]
          },
          "metadata": {
            "tags": []
          },
          "execution_count": 42
        }
      ]
    },
    {
      "cell_type": "markdown",
      "metadata": {
        "id": "Ap5Ibetp7nQR"
      },
      "source": [
        "# DATI MAGISTRALI"
      ]
    },
    {
      "cell_type": "code",
      "metadata": {
        "colab": {
          "base_uri": "https://localhost:8080/"
        },
        "id": "5NBBfE3Y70gY",
        "outputId": "8092c787-e567-4a1e-8bd1-9815ee71fbe7"
      },
      "source": [
        "df_students_second_degree = df_students.query('study_type == \"Magistrale\"')\n",
        "#df_students_second_degree\n",
        "df_students_second_degree.shape"
      ],
      "execution_count": 43,
      "outputs": [
        {
          "output_type": "execute_result",
          "data": {
            "text/plain": [
              "(138, 90)"
            ]
          },
          "metadata": {
            "tags": []
          },
          "execution_count": 43
        }
      ]
    },
    {
      "cell_type": "code",
      "metadata": {
        "colab": {
          "base_uri": "https://localhost:8080/"
        },
        "id": "JgeW5QnN9wVV",
        "outputId": "34da5e18-9583-4fca-c991-8832e93243a3"
      },
      "source": [
        "df_graduate_second_degree = df_graduate.query('study_type == \"Magistrale\"')\n",
        "#df_graduate_second_degree\n",
        "df_graduate_second_degree.shape"
      ],
      "execution_count": 44,
      "outputs": [
        {
          "output_type": "execute_result",
          "data": {
            "text/plain": [
              "(30, 85)"
            ]
          },
          "metadata": {
            "tags": []
          },
          "execution_count": 44
        }
      ]
    },
    {
      "cell_type": "markdown",
      "metadata": {
        "id": "KMnwqXv_AwEk"
      },
      "source": [
        "# ANALISI SCUOLA SUPERIORE -TODO"
      ]
    },
    {
      "cell_type": "markdown",
      "metadata": {
        "id": "EEXZ9twWcLI7"
      },
      "source": [
        "##Preparazione dataset"
      ]
    },
    {
      "cell_type": "markdown",
      "metadata": {
        "id": "uVUmwI1g96_2"
      },
      "source": [
        "Queste righe di codice mi permettono di selezionare solo le colonne che ci interessano per l analisi e unire 2 dataframe. Devo fare così in quanto gli studenti e i laureati non hanno lo stesso numero di colonne e quindi non possono essere uniti insieme"
      ]
    },
    {
      "cell_type": "code",
      "metadata": {
        "id": "lP6u7nfW9Yc4"
      },
      "source": [
        "#Selezionare da colonna a colonna tutti le righe\n",
        "#df_students_second_degree.loc['degree_course':'study_type']"
      ],
      "execution_count": 45,
      "outputs": []
    },
    {
      "cell_type": "code",
      "metadata": {
        "colab": {
          "base_uri": "https://localhost:8080/",
          "height": 402
        },
        "id": "Ks8C8BK__N-8",
        "outputId": "a1c26a26-3df3-44d0-e5bd-550e89f2ef3d"
      },
      "source": [
        "#selezionare da solo determinate colonne\n",
        "df_high_school_analysis=df_students_first_degree[['university','degree_course','high_school']]\n",
        "df_high_school_analysis"
      ],
      "execution_count": 46,
      "outputs": [
        {
          "output_type": "execute_result",
          "data": {
            "text/html": [
              "<div>\n",
              "<style scoped>\n",
              "    .dataframe tbody tr th:only-of-type {\n",
              "        vertical-align: middle;\n",
              "    }\n",
              "\n",
              "    .dataframe tbody tr th {\n",
              "        vertical-align: top;\n",
              "    }\n",
              "\n",
              "    .dataframe thead th {\n",
              "        text-align: right;\n",
              "    }\n",
              "</style>\n",
              "<table border=\"1\" class=\"dataframe\">\n",
              "  <thead>\n",
              "    <tr style=\"text-align: right;\">\n",
              "      <th></th>\n",
              "      <th>university</th>\n",
              "      <th>degree_course</th>\n",
              "      <th>high_school</th>\n",
              "    </tr>\n",
              "  </thead>\n",
              "  <tbody>\n",
              "    <tr>\n",
              "      <th>0</th>\n",
              "      <td>Politecnico di MILANO</td>\n",
              "      <td>ingegneria aerospaziale</td>\n",
              "      <td>Liceo Scientifico</td>\n",
              "    </tr>\n",
              "    <tr>\n",
              "      <th>1</th>\n",
              "      <td>Università degli Studi di NAPOLI Federico II</td>\n",
              "      <td>Economia e commercio</td>\n",
              "      <td>Liceo Scientifico</td>\n",
              "    </tr>\n",
              "    <tr>\n",
              "      <th>2</th>\n",
              "      <td>Università degli Studi di ROMA La Sapienza</td>\n",
              "      <td>Medicina</td>\n",
              "      <td>Liceo Classico</td>\n",
              "    </tr>\n",
              "    <tr>\n",
              "      <th>4</th>\n",
              "      <td>Università degli Studi di CAGLIARI</td>\n",
              "      <td>Medicina e chirurgia</td>\n",
              "      <td>Liceo Classico</td>\n",
              "    </tr>\n",
              "    <tr>\n",
              "      <th>5</th>\n",
              "      <td>Università degli Studi di PARMA</td>\n",
              "      <td>Infermieristica</td>\n",
              "      <td>Liceo Classico</td>\n",
              "    </tr>\n",
              "    <tr>\n",
              "      <th>...</th>\n",
              "      <td>...</td>\n",
              "      <td>...</td>\n",
              "      <td>...</td>\n",
              "    </tr>\n",
              "    <tr>\n",
              "      <th>713</th>\n",
              "      <td>Università degli Studi di GENOVA</td>\n",
              "      <td>Ingegneria biomedica</td>\n",
              "      <td>Istituto tecnico industriale</td>\n",
              "    </tr>\n",
              "    <tr>\n",
              "      <th>714</th>\n",
              "      <td>Università degli Studi di PERUGIA</td>\n",
              "      <td>Scienze biologiche</td>\n",
              "      <td>Liceo Linguistico</td>\n",
              "    </tr>\n",
              "    <tr>\n",
              "      <th>715</th>\n",
              "      <td>Università degli Studi di ROMA La Sapienza</td>\n",
              "      <td>Informatica</td>\n",
              "      <td>altro</td>\n",
              "    </tr>\n",
              "    <tr>\n",
              "      <th>716</th>\n",
              "      <td>Università degli Studi di PARMA</td>\n",
              "      <td>Fisica</td>\n",
              "      <td>Liceo Classico</td>\n",
              "    </tr>\n",
              "    <tr>\n",
              "      <th>718</th>\n",
              "      <td>Università di PISA</td>\n",
              "      <td>CTF</td>\n",
              "      <td>Liceo Scientifico</td>\n",
              "    </tr>\n",
              "  </tbody>\n",
              "</table>\n",
              "<p>552 rows × 3 columns</p>\n",
              "</div>"
            ],
            "text/plain": [
              "                                       university  ...                   high_school\n",
              "0                           Politecnico di MILANO  ...             Liceo Scientifico\n",
              "1    Università degli Studi di NAPOLI Federico II  ...             Liceo Scientifico\n",
              "2      Università degli Studi di ROMA La Sapienza  ...                Liceo Classico\n",
              "4              Università degli Studi di CAGLIARI  ...                Liceo Classico\n",
              "5                 Università degli Studi di PARMA  ...                Liceo Classico\n",
              "..                                            ...  ...                           ...\n",
              "713              Università degli Studi di GENOVA  ...  Istituto tecnico industriale\n",
              "714             Università degli Studi di PERUGIA  ...             Liceo Linguistico\n",
              "715    Università degli Studi di ROMA La Sapienza  ...                         altro\n",
              "716               Università degli Studi di PARMA  ...                Liceo Classico\n",
              "718                            Università di PISA  ...             Liceo Scientifico\n",
              "\n",
              "[552 rows x 3 columns]"
            ]
          },
          "metadata": {
            "tags": []
          },
          "execution_count": 46
        }
      ]
    },
    {
      "cell_type": "code",
      "metadata": {
        "colab": {
          "base_uri": "https://localhost:8080/",
          "height": 402
        },
        "id": "U5zogIKW_xwt",
        "outputId": "e62d41ea-b4fc-4dec-d2b3-76295aefd5d3"
      },
      "source": [
        "df_high_school_analysis.append(df_graduate_first_degree[['university','degree_course','high_school']])"
      ],
      "execution_count": 47,
      "outputs": [
        {
          "output_type": "execute_result",
          "data": {
            "text/html": [
              "<div>\n",
              "<style scoped>\n",
              "    .dataframe tbody tr th:only-of-type {\n",
              "        vertical-align: middle;\n",
              "    }\n",
              "\n",
              "    .dataframe tbody tr th {\n",
              "        vertical-align: top;\n",
              "    }\n",
              "\n",
              "    .dataframe thead th {\n",
              "        text-align: right;\n",
              "    }\n",
              "</style>\n",
              "<table border=\"1\" class=\"dataframe\">\n",
              "  <thead>\n",
              "    <tr style=\"text-align: right;\">\n",
              "      <th></th>\n",
              "      <th>university</th>\n",
              "      <th>degree_course</th>\n",
              "      <th>high_school</th>\n",
              "    </tr>\n",
              "  </thead>\n",
              "  <tbody>\n",
              "    <tr>\n",
              "      <th>0</th>\n",
              "      <td>Politecnico di MILANO</td>\n",
              "      <td>ingegneria aerospaziale</td>\n",
              "      <td>Liceo Scientifico</td>\n",
              "    </tr>\n",
              "    <tr>\n",
              "      <th>1</th>\n",
              "      <td>Università degli Studi di NAPOLI Federico II</td>\n",
              "      <td>Economia e commercio</td>\n",
              "      <td>Liceo Scientifico</td>\n",
              "    </tr>\n",
              "    <tr>\n",
              "      <th>2</th>\n",
              "      <td>Università degli Studi di ROMA La Sapienza</td>\n",
              "      <td>Medicina</td>\n",
              "      <td>Liceo Classico</td>\n",
              "    </tr>\n",
              "    <tr>\n",
              "      <th>4</th>\n",
              "      <td>Università degli Studi di CAGLIARI</td>\n",
              "      <td>Medicina e chirurgia</td>\n",
              "      <td>Liceo Classico</td>\n",
              "    </tr>\n",
              "    <tr>\n",
              "      <th>5</th>\n",
              "      <td>Università degli Studi di PARMA</td>\n",
              "      <td>Infermieristica</td>\n",
              "      <td>Liceo Classico</td>\n",
              "    </tr>\n",
              "    <tr>\n",
              "      <th>...</th>\n",
              "      <td>...</td>\n",
              "      <td>...</td>\n",
              "      <td>...</td>\n",
              "    </tr>\n",
              "    <tr>\n",
              "      <th>52</th>\n",
              "      <td>Università degli Studi di PAVIA</td>\n",
              "      <td>ingegneria</td>\n",
              "      <td>Istituto tecnico geometri</td>\n",
              "    </tr>\n",
              "    <tr>\n",
              "      <th>54</th>\n",
              "      <td>Università degli Studi di ROMA La Sapienza</td>\n",
              "      <td>Medicina e chirurgia</td>\n",
              "      <td>Liceo Scientifico</td>\n",
              "    </tr>\n",
              "    <tr>\n",
              "      <th>57</th>\n",
              "      <td>Libera Università Vita Salute San Raffaele MILANO</td>\n",
              "      <td>Scienze motorie</td>\n",
              "      <td>Istituto tecnico economico</td>\n",
              "    </tr>\n",
              "    <tr>\n",
              "      <th>58</th>\n",
              "      <td>Università degli Studi di GENOVA</td>\n",
              "      <td>Servizio Sociale</td>\n",
              "      <td>Liceo Scientifico</td>\n",
              "    </tr>\n",
              "    <tr>\n",
              "      <th>60</th>\n",
              "      <td>Università degli Studi di CAGLIARI</td>\n",
              "      <td>Beni Culturali e Spettacolo</td>\n",
              "      <td>IPSIA</td>\n",
              "    </tr>\n",
              "  </tbody>\n",
              "</table>\n",
              "<p>579 rows × 3 columns</p>\n",
              "</div>"
            ],
            "text/plain": [
              "                                           university  ...                 high_school\n",
              "0                               Politecnico di MILANO  ...           Liceo Scientifico\n",
              "1        Università degli Studi di NAPOLI Federico II  ...           Liceo Scientifico\n",
              "2          Università degli Studi di ROMA La Sapienza  ...              Liceo Classico\n",
              "4                  Università degli Studi di CAGLIARI  ...              Liceo Classico\n",
              "5                     Università degli Studi di PARMA  ...              Liceo Classico\n",
              "..                                                ...  ...                         ...\n",
              "52                    Università degli Studi di PAVIA  ...   Istituto tecnico geometri\n",
              "54         Università degli Studi di ROMA La Sapienza  ...           Liceo Scientifico\n",
              "57  Libera Università Vita Salute San Raffaele MILANO  ...  Istituto tecnico economico\n",
              "58                   Università degli Studi di GENOVA  ...           Liceo Scientifico\n",
              "60                 Università degli Studi di CAGLIARI  ...                       IPSIA\n",
              "\n",
              "[579 rows x 3 columns]"
            ]
          },
          "metadata": {
            "tags": []
          },
          "execution_count": 47
        }
      ]
    },
    {
      "cell_type": "markdown",
      "metadata": {
        "id": "Sd_tOypFcnX7"
      },
      "source": [
        "#ANALISI MATERIE -TODO"
      ]
    },
    {
      "cell_type": "markdown",
      "metadata": {
        "id": "hRQHpl4AcuRl"
      },
      "source": [
        "##Preparazione dataset"
      ]
    },
    {
      "cell_type": "code",
      "metadata": {
        "colab": {
          "base_uri": "https://localhost:8080/",
          "height": 402
        },
        "id": "NTvPWxhic1DV",
        "outputId": "3bd9810d-83ce-42b2-d50f-91c1e54b4033"
      },
      "source": [
        "#seleziono le colonne che mi servono\n",
        "df_subject_area_analysis=df_students_first_degree[['university','degree_course','subject_area']]\n",
        "df_subject_area_analysis"
      ],
      "execution_count": 48,
      "outputs": [
        {
          "output_type": "execute_result",
          "data": {
            "text/html": [
              "<div>\n",
              "<style scoped>\n",
              "    .dataframe tbody tr th:only-of-type {\n",
              "        vertical-align: middle;\n",
              "    }\n",
              "\n",
              "    .dataframe tbody tr th {\n",
              "        vertical-align: top;\n",
              "    }\n",
              "\n",
              "    .dataframe thead th {\n",
              "        text-align: right;\n",
              "    }\n",
              "</style>\n",
              "<table border=\"1\" class=\"dataframe\">\n",
              "  <thead>\n",
              "    <tr style=\"text-align: right;\">\n",
              "      <th></th>\n",
              "      <th>university</th>\n",
              "      <th>degree_course</th>\n",
              "      <th>subject_area</th>\n",
              "    </tr>\n",
              "  </thead>\n",
              "  <tbody>\n",
              "    <tr>\n",
              "      <th>0</th>\n",
              "      <td>Politecnico di MILANO</td>\n",
              "      <td>ingegneria aerospaziale</td>\n",
              "      <td>Matematica,meccanica,fisica</td>\n",
              "    </tr>\n",
              "    <tr>\n",
              "      <th>1</th>\n",
              "      <td>Università degli Studi di NAPOLI Federico II</td>\n",
              "      <td>Economia e commercio</td>\n",
              "      <td>economia,diritto</td>\n",
              "    </tr>\n",
              "    <tr>\n",
              "      <th>2</th>\n",
              "      <td>Università degli Studi di ROMA La Sapienza</td>\n",
              "      <td>Medicina</td>\n",
              "      <td>Anatomia, fisiologia, patologia</td>\n",
              "    </tr>\n",
              "    <tr>\n",
              "      <th>4</th>\n",
              "      <td>Università degli Studi di CAGLIARI</td>\n",
              "      <td>Medicina e chirurgia</td>\n",
              "      <td>Anatomia, patologia,</td>\n",
              "    </tr>\n",
              "    <tr>\n",
              "      <th>5</th>\n",
              "      <td>Università degli Studi di PARMA</td>\n",
              "      <td>Infermieristica</td>\n",
              "      <td>Anatomia, biochimica, fisiologia, patologia, f...</td>\n",
              "    </tr>\n",
              "    <tr>\n",
              "      <th>...</th>\n",
              "      <td>...</td>\n",
              "      <td>...</td>\n",
              "      <td>...</td>\n",
              "    </tr>\n",
              "    <tr>\n",
              "      <th>713</th>\n",
              "      <td>Università degli Studi di GENOVA</td>\n",
              "      <td>Ingegneria biomedica</td>\n",
              "      <td>Fisiologia, elettronica, meccanica</td>\n",
              "    </tr>\n",
              "    <tr>\n",
              "      <th>714</th>\n",
              "      <td>Università degli Studi di PERUGIA</td>\n",
              "      <td>Scienze biologiche</td>\n",
              "      <td>Matematica,chimica organica,chimica inorganica...</td>\n",
              "    </tr>\n",
              "    <tr>\n",
              "      <th>715</th>\n",
              "      <td>Università degli Studi di ROMA La Sapienza</td>\n",
              "      <td>Informatica</td>\n",
              "      <td>Algoritmi, programmazione</td>\n",
              "    </tr>\n",
              "    <tr>\n",
              "      <th>716</th>\n",
              "      <td>Università degli Studi di PARMA</td>\n",
              "      <td>Fisica</td>\n",
              "      <td>Matematica,fisica</td>\n",
              "    </tr>\n",
              "    <tr>\n",
              "      <th>718</th>\n",
              "      <td>Università di PISA</td>\n",
              "      <td>CTF</td>\n",
              "      <td>Chimica farmaceutica, chimica organica, farmac...</td>\n",
              "    </tr>\n",
              "  </tbody>\n",
              "</table>\n",
              "<p>552 rows × 3 columns</p>\n",
              "</div>"
            ],
            "text/plain": [
              "                                       university  ...                                       subject_area\n",
              "0                           Politecnico di MILANO  ...                        Matematica,meccanica,fisica\n",
              "1    Università degli Studi di NAPOLI Federico II  ...                                   economia,diritto\n",
              "2      Università degli Studi di ROMA La Sapienza  ...                    Anatomia, fisiologia, patologia\n",
              "4              Università degli Studi di CAGLIARI  ...                              Anatomia, patologia, \n",
              "5                 Università degli Studi di PARMA  ...  Anatomia, biochimica, fisiologia, patologia, f...\n",
              "..                                            ...  ...                                                ...\n",
              "713              Università degli Studi di GENOVA  ...                 Fisiologia, elettronica, meccanica\n",
              "714             Università degli Studi di PERUGIA  ...  Matematica,chimica organica,chimica inorganica...\n",
              "715    Università degli Studi di ROMA La Sapienza  ...                         Algoritmi, programmazione \n",
              "716               Università degli Studi di PARMA  ...                                  Matematica,fisica\n",
              "718                            Università di PISA  ...  Chimica farmaceutica, chimica organica, farmac...\n",
              "\n",
              "[552 rows x 3 columns]"
            ]
          },
          "metadata": {
            "tags": []
          },
          "execution_count": 48
        }
      ]
    },
    {
      "cell_type": "code",
      "metadata": {
        "id": "u-fNt_smdZBz"
      },
      "source": [
        "df_subject_area_analysis=df_subject_area_analysis.append(df_graduate_first_degree[['university','degree_course','subject_area']])"
      ],
      "execution_count": 49,
      "outputs": []
    },
    {
      "cell_type": "markdown",
      "metadata": {
        "id": "CHHyDl2HgAGf"
      },
      "source": [
        "##Gestione valori mancanti: da rivedere\n",
        "\n",
        " Blocco con rientro\n",
        "\n"
      ]
    },
    {
      "cell_type": "code",
      "metadata": {
        "colab": {
          "base_uri": "https://localhost:8080/"
        },
        "id": "wj8S1wiZd0CG",
        "outputId": "99dba437-ca65-4056-f15f-c34cbad6a9a2"
      },
      "source": [
        "#numero di colonne con valori mancanti\n",
        "print(\"Columns with Missing Values:\",df_subject_area_analysis.columns[df_subject_area_analysis.isnull().any()].tolist())"
      ],
      "execution_count": 50,
      "outputs": [
        {
          "output_type": "stream",
          "text": [
            "Columns with Missing Values: ['subject_area']\n"
          ],
          "name": "stdout"
        }
      ]
    },
    {
      "cell_type": "code",
      "metadata": {
        "colab": {
          "base_uri": "https://localhost:8080/"
        },
        "id": "CyluWBBAeDpl",
        "outputId": "931acbbc-29d1-4569-a7ce-b0b5474d2caa"
      },
      "source": [
        "#numero di righe con valori mancanti\n",
        "print(\"Number of rows with Missing Values::\",df_subject_area_analysis.isnull().any(axis = 1).sum()) #???"
      ],
      "execution_count": 51,
      "outputs": [
        {
          "output_type": "stream",
          "text": [
            "Number of rows with Missing Values:: 14\n"
          ],
          "name": "stdout"
        }
      ]
    },
    {
      "cell_type": "code",
      "metadata": {
        "colab": {
          "base_uri": "https://localhost:8080/",
          "height": 462
        },
        "id": "4nEcIUoGfZ4O",
        "outputId": "f57ba7a2-ef83-4476-b704-0047fe2786aa"
      },
      "source": [
        "#stampa le righe con valori mancanti\n",
        "null_data = df_subject_area_analysis[df_subject_area_analysis.isnull().any(axis=1)]\n",
        "null_data"
      ],
      "execution_count": 52,
      "outputs": [
        {
          "output_type": "execute_result",
          "data": {
            "text/html": [
              "<div>\n",
              "<style scoped>\n",
              "    .dataframe tbody tr th:only-of-type {\n",
              "        vertical-align: middle;\n",
              "    }\n",
              "\n",
              "    .dataframe tbody tr th {\n",
              "        vertical-align: top;\n",
              "    }\n",
              "\n",
              "    .dataframe thead th {\n",
              "        text-align: right;\n",
              "    }\n",
              "</style>\n",
              "<table border=\"1\" class=\"dataframe\">\n",
              "  <thead>\n",
              "    <tr style=\"text-align: right;\">\n",
              "      <th></th>\n",
              "      <th>university</th>\n",
              "      <th>degree_course</th>\n",
              "      <th>subject_area</th>\n",
              "    </tr>\n",
              "  </thead>\n",
              "  <tbody>\n",
              "    <tr>\n",
              "      <th>71</th>\n",
              "      <td>Università degli Studi di CAGLIARI</td>\n",
              "      <td>Medicina e Chirurgia</td>\n",
              "      <td>NaN</td>\n",
              "    </tr>\n",
              "    <tr>\n",
              "      <th>126</th>\n",
              "      <td>Università degli Studi di MILANO-BICOCCA</td>\n",
              "      <td>Infermieristica</td>\n",
              "      <td>NaN</td>\n",
              "    </tr>\n",
              "    <tr>\n",
              "      <th>309</th>\n",
              "      <td>Università degli Studi di PARMA</td>\n",
              "      <td>Economia</td>\n",
              "      <td>NaN</td>\n",
              "    </tr>\n",
              "    <tr>\n",
              "      <th>372</th>\n",
              "      <td>Università degli Studi di MODENA e REGGIO EMILIA</td>\n",
              "      <td>Economia e marketing internazionale</td>\n",
              "      <td>NaN</td>\n",
              "    </tr>\n",
              "    <tr>\n",
              "      <th>396</th>\n",
              "      <td>Università degli Studi di CAGLIARI</td>\n",
              "      <td>Medicina e chirurgia</td>\n",
              "      <td>NaN</td>\n",
              "    </tr>\n",
              "    <tr>\n",
              "      <th>412</th>\n",
              "      <td>Università degli Studi di MODENA e REGGIO EMILIA</td>\n",
              "      <td>Ingegneria informatica</td>\n",
              "      <td>NaN</td>\n",
              "    </tr>\n",
              "    <tr>\n",
              "      <th>523</th>\n",
              "      <td>Università degli Studi di GENOVA</td>\n",
              "      <td>Scienze Biologiche</td>\n",
              "      <td>NaN</td>\n",
              "    </tr>\n",
              "    <tr>\n",
              "      <th>571</th>\n",
              "      <td>Università degli Studi di PARMA</td>\n",
              "      <td>Ingegneria dei Sistemi Informativi</td>\n",
              "      <td>NaN</td>\n",
              "    </tr>\n",
              "    <tr>\n",
              "      <th>585</th>\n",
              "      <td>Università degli Studi di CAGLIARI</td>\n",
              "      <td>Medicina e Chirurgia</td>\n",
              "      <td>NaN</td>\n",
              "    </tr>\n",
              "    <tr>\n",
              "      <th>623</th>\n",
              "      <td>Università degli Studi di PARMA</td>\n",
              "      <td>Ingegneria Informatica</td>\n",
              "      <td>NaN</td>\n",
              "    </tr>\n",
              "    <tr>\n",
              "      <th>635</th>\n",
              "      <td>Università degli Studi di PADOVA</td>\n",
              "      <td>Ingegneria Biomedica</td>\n",
              "      <td>NaN</td>\n",
              "    </tr>\n",
              "    <tr>\n",
              "      <th>638</th>\n",
              "      <td>Università degli Studi di PARMA</td>\n",
              "      <td>Scienze zootecniche e tecnologiche delle produ...</td>\n",
              "      <td>NaN</td>\n",
              "    </tr>\n",
              "    <tr>\n",
              "      <th>8</th>\n",
              "      <td>Università degli Studi di PADOVA</td>\n",
              "      <td>Medicina</td>\n",
              "      <td>NaN</td>\n",
              "    </tr>\n",
              "    <tr>\n",
              "      <th>16</th>\n",
              "      <td>Università degli Studi di PARMA</td>\n",
              "      <td>Economia e finanza</td>\n",
              "      <td>NaN</td>\n",
              "    </tr>\n",
              "  </tbody>\n",
              "</table>\n",
              "</div>"
            ],
            "text/plain": [
              "                                           university  ... subject_area\n",
              "71                 Università degli Studi di CAGLIARI  ...          NaN\n",
              "126          Università degli Studi di MILANO-BICOCCA  ...          NaN\n",
              "309                   Università degli Studi di PARMA  ...          NaN\n",
              "372  Università degli Studi di MODENA e REGGIO EMILIA  ...          NaN\n",
              "396                Università degli Studi di CAGLIARI  ...          NaN\n",
              "412  Università degli Studi di MODENA e REGGIO EMILIA  ...          NaN\n",
              "523                  Università degli Studi di GENOVA  ...          NaN\n",
              "571                   Università degli Studi di PARMA  ...          NaN\n",
              "585                Università degli Studi di CAGLIARI  ...          NaN\n",
              "623                   Università degli Studi di PARMA  ...          NaN\n",
              "635                  Università degli Studi di PADOVA  ...          NaN\n",
              "638                   Università degli Studi di PARMA  ...          NaN\n",
              "8                    Università degli Studi di PADOVA  ...          NaN\n",
              "16                    Università degli Studi di PARMA  ...          NaN\n",
              "\n",
              "[14 rows x 3 columns]"
            ]
          },
          "metadata": {
            "tags": []
          },
          "execution_count": 52
        }
      ]
    },
    {
      "cell_type": "code",
      "metadata": {
        "id": "7RXhQnhHkKfB"
      },
      "source": [
        "#university = np.unique(df_subject_area_analysis['university'])\n",
        "#print(\"Università presenti:\", len(university))\n",
        "#print(university)"
      ],
      "execution_count": 53,
      "outputs": []
    },
    {
      "cell_type": "markdown",
      "metadata": {
        "id": "6wFr-if0YfDO"
      },
      "source": [
        "https://pythoninoffice.com/use-fuzzy-string-matching-in-pandas/\n",
        "https://stackoverflow.com/questions/13636848/is-it-possible-to-do-fuzzy-match-merge-with-python-pandas\n",
        "https://www.youtube.com/watch?v=uxHnMG1Jz00\n",
        "https://towardsdatascience.com/fuzzywuzzy-find-similar-strings-within-one-column-in-a-pandas-data-frame-99f6c2a0c212"
      ]
    },
    {
      "cell_type": "code",
      "metadata": {
        "id": "imW7FlNrYIzP"
      },
      "source": [
        "#!pip install fuzzywuzzy\n",
        "#from fuzzywuzzy import fuzz\n",
        "#from fuzzywuzzy import process\n",
        "#df_subject_area_analysis_1 =df_subject_area_analysis.copy()\n",
        "#df_subject_area_analysis_1\n",
        "#matches= df_subject_area_analysis['degree_course'].apply(lambda x: process.extractOne(x, df_subject_area_analysis_1['degree_course'].to_list(),score_cutoff=80))\n",
        "#df_subject_area_analysis[['degree_course']]"
      ],
      "execution_count": 54,
      "outputs": []
    },
    {
      "cell_type": "code",
      "metadata": {
        "id": "d6dE_uvtmitd"
      },
      "source": [
        "#df=pd.DataFrame(list(matches), columns=['degree', 'match'])\n",
        "#df"
      ],
      "execution_count": 55,
      "outputs": []
    },
    {
      "cell_type": "code",
      "metadata": {
        "id": "LRoPeh3m5ndl"
      },
      "source": [
        "#df_subject_area_analysis['degree_course']=df['degree']\n",
        "#df_subject_area_analysis['degree_course']"
      ],
      "execution_count": 56,
      "outputs": []
    },
    {
      "cell_type": "markdown",
      "metadata": {
        "id": "KB2BKQmExm-f"
      },
      "source": [
        "https://stackoverflow.com/questions/49716597/group-similar-words-sentences-in-pandas-column"
      ]
    }
  ]
}